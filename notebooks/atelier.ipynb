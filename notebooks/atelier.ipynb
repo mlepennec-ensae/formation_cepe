{
 "cells": [
  {
   "cell_type": "markdown",
   "metadata": {},
   "source": [
    "# Atelier"
   ]
  },
  {
   "cell_type": "code",
   "execution_count": 2,
   "metadata": {},
   "outputs": [],
   "source": [
    "import pandas as pd\n",
    "import requests\n",
    "\n",
    "from bs4 import BeautifulSoup"
   ]
  },
  {
   "cell_type": "code",
   "execution_count": 5,
   "metadata": {},
   "outputs": [],
   "source": [
    "url = \"https://scrapeme.live/product-category/pokemon/\"\n",
    "\n",
    "r = requests.get(url)\n",
    "assert r.status_code == 200, f\"Erreur {r.status_code}\"\n",
    "\n",
    "soup = BeautifulSoup(r.text, \"html.parser\")"
   ]
  },
  {
   "cell_type": "code",
   "execution_count": 7,
   "metadata": {},
   "outputs": [
    {
     "data": {
      "text/plain": [
       "[<ul class=\"products columns-4\">\n",
       " <li class=\"post-759 product type-product status-publish has-post-thumbnail product_cat-pokemon product_cat-seed product_tag-bulbasaur product_tag-overgrow product_tag-seed first instock sold-individually taxable shipping-taxable purchasable product-type-simple\">\n",
       " <a class=\"woocommerce-LoopProduct-link woocommerce-loop-product__link\" href=\"https://scrapeme.live/shop/Bulbasaur/\"><img alt=\"\" class=\"attachment-woocommerce_thumbnail size-woocommerce_thumbnail wp-post-image\" height=\"250\" sizes=\"(max-width: 767px) 89vw, (max-width: 1000px) 54vw, (max-width: 1071px) 543px, 580px\" src=\"https://scrapeme.live/wp-content/uploads/2018/08/001-250x250.png\" srcset=\"https://scrapeme.live/wp-content/uploads/2018/08/001-250x250.png 250w, https://scrapeme.live/wp-content/uploads/2018/08/001-150x150.png 150w, https://scrapeme.live/wp-content/uploads/2018/08/001-300x300.png 300w, https://scrapeme.live/wp-content/uploads/2018/08/001-100x100.png 100w, https://scrapeme.live/wp-content/uploads/2018/08/001-350x350.png 350w, https://scrapeme.live/wp-content/uploads/2018/08/001.png 475w\" width=\"250\"/><h2 class=\"woocommerce-loop-product__title\">Bulbasaur</h2>\n",
       " <span class=\"price\"><span class=\"woocommerce-Price-amount amount\"><span class=\"woocommerce-Price-currencySymbol\">£</span>63.00</span></span>\n",
       " </a><a aria-label=\"Add “Bulbasaur” to your basket\" class=\"button product_type_simple add_to_cart_button ajax_add_to_cart\" data-product_id=\"759\" data-product_sku=\"4391\" data-quantity=\"1\" href=\"/product-category/pokemon/?add-to-cart=759\" rel=\"nofollow\">Add to basket</a></li>\n",
       " <li class=\"post-729 product type-product status-publish has-post-thumbnail product_cat-pokemon product_cat-seed product_tag-ivysaur product_tag-overgrow product_tag-seed instock sold-individually taxable shipping-taxable purchasable product-type-simple\">\n",
       " <a class=\"woocommerce-LoopProduct-link woocommerce-loop-product__link\" href=\"https://scrapeme.live/shop/Ivysaur/\"><img alt=\"\" class=\"attachment-woocommerce_thumbnail size-woocommerce_thumbnail wp-post-image\" height=\"250\" sizes=\"(max-width: 767px) 89vw, (max-width: 1000px) 54vw, (max-width: 1071px) 543px, 580px\" src=\"https://scrapeme.live/wp-content/uploads/2018/08/002-250x250.png\" srcset=\"https://scrapeme.live/wp-content/uploads/2018/08/002-250x250.png 250w, https://scrapeme.live/wp-content/uploads/2018/08/002-150x150.png 150w, https://scrapeme.live/wp-content/uploads/2018/08/002-300x300.png 300w, https://scrapeme.live/wp-content/uploads/2018/08/002-100x100.png 100w, https://scrapeme.live/wp-content/uploads/2018/08/002-350x350.png 350w, https://scrapeme.live/wp-content/uploads/2018/08/002.png 475w\" width=\"250\"/><h2 class=\"woocommerce-loop-product__title\">Ivysaur</h2>\n",
       " <span class=\"price\"><span class=\"woocommerce-Price-amount amount\"><span class=\"woocommerce-Price-currencySymbol\">£</span>87.00</span></span>\n",
       " </a><a aria-label=\"Add “Ivysaur” to your basket\" class=\"button product_type_simple add_to_cart_button ajax_add_to_cart\" data-product_id=\"729\" data-product_sku=\"7227\" data-quantity=\"1\" href=\"/product-category/pokemon/?add-to-cart=729\" rel=\"nofollow\">Add to basket</a></li>\n",
       " <li class=\"post-730 product type-product status-publish has-post-thumbnail product_cat-pokemon product_cat-seed product_tag-overgrow product_tag-seed product_tag-venusaur instock taxable shipping-taxable purchasable product-type-simple\">\n",
       " <a class=\"woocommerce-LoopProduct-link woocommerce-loop-product__link\" href=\"https://scrapeme.live/shop/Venusaur/\"><img alt=\"\" class=\"attachment-woocommerce_thumbnail size-woocommerce_thumbnail wp-post-image\" height=\"250\" sizes=\"(max-width: 767px) 89vw, (max-width: 1000px) 54vw, (max-width: 1071px) 543px, 580px\" src=\"https://scrapeme.live/wp-content/uploads/2018/08/003-250x250.png\" srcset=\"https://scrapeme.live/wp-content/uploads/2018/08/003-250x250.png 250w, https://scrapeme.live/wp-content/uploads/2018/08/003-150x150.png 150w, https://scrapeme.live/wp-content/uploads/2018/08/003-300x300.png 300w, https://scrapeme.live/wp-content/uploads/2018/08/003-100x100.png 100w, https://scrapeme.live/wp-content/uploads/2018/08/003-350x350.png 350w, https://scrapeme.live/wp-content/uploads/2018/08/003.png 475w\" width=\"250\"/><h2 class=\"woocommerce-loop-product__title\">Venusaur</h2>\n",
       " <span class=\"price\"><span class=\"woocommerce-Price-amount amount\"><span class=\"woocommerce-Price-currencySymbol\">£</span>105.00</span></span>\n",
       " </a><a aria-label=\"Add “Venusaur” to your basket\" class=\"button product_type_simple add_to_cart_button ajax_add_to_cart\" data-product_id=\"730\" data-product_sku=\"7036\" data-quantity=\"1\" href=\"/product-category/pokemon/?add-to-cart=730\" rel=\"nofollow\">Add to basket</a></li>\n",
       " <li class=\"post-731 product type-product status-publish has-post-thumbnail product_cat-lizard product_cat-pokemon product_tag-blaze product_tag-charmander product_tag-lizard last instock sold-individually taxable shipping-taxable purchasable product-type-simple\">\n",
       " <a class=\"woocommerce-LoopProduct-link woocommerce-loop-product__link\" href=\"https://scrapeme.live/shop/Charmander/\"><img alt=\"\" class=\"attachment-woocommerce_thumbnail size-woocommerce_thumbnail wp-post-image\" height=\"250\" sizes=\"(max-width: 767px) 89vw, (max-width: 1000px) 54vw, (max-width: 1071px) 543px, 580px\" src=\"https://scrapeme.live/wp-content/uploads/2018/08/004-250x250.png\" srcset=\"https://scrapeme.live/wp-content/uploads/2018/08/004-250x250.png 250w, https://scrapeme.live/wp-content/uploads/2018/08/004-150x150.png 150w, https://scrapeme.live/wp-content/uploads/2018/08/004-300x300.png 300w, https://scrapeme.live/wp-content/uploads/2018/08/004-100x100.png 100w, https://scrapeme.live/wp-content/uploads/2018/08/004-350x350.png 350w, https://scrapeme.live/wp-content/uploads/2018/08/004.png 475w\" width=\"250\"/><h2 class=\"woocommerce-loop-product__title\">Charmander</h2>\n",
       " <span class=\"price\"><span class=\"woocommerce-Price-amount amount\"><span class=\"woocommerce-Price-currencySymbol\">£</span>48.00</span></span>\n",
       " </a><a aria-label=\"Add “Charmander” to your basket\" class=\"button product_type_simple add_to_cart_button ajax_add_to_cart\" data-product_id=\"731\" data-product_sku=\"9086\" data-quantity=\"1\" href=\"/product-category/pokemon/?add-to-cart=731\" rel=\"nofollow\">Add to basket</a></li>\n",
       " <li class=\"post-732 product type-product status-publish has-post-thumbnail product_cat-flame product_cat-pokemon product_tag-blaze product_tag-charmeleon product_tag-flame first instock taxable shipping-taxable purchasable product-type-simple\">\n",
       " <a class=\"woocommerce-LoopProduct-link woocommerce-loop-product__link\" href=\"https://scrapeme.live/shop/Charmeleon/\"><img alt=\"\" class=\"attachment-woocommerce_thumbnail size-woocommerce_thumbnail wp-post-image\" height=\"250\" sizes=\"(max-width: 767px) 89vw, (max-width: 1000px) 54vw, (max-width: 1071px) 543px, 580px\" src=\"https://scrapeme.live/wp-content/uploads/2018/08/005-250x250.png\" srcset=\"https://scrapeme.live/wp-content/uploads/2018/08/005-250x250.png 250w, https://scrapeme.live/wp-content/uploads/2018/08/005-150x150.png 150w, https://scrapeme.live/wp-content/uploads/2018/08/005-300x300.png 300w, https://scrapeme.live/wp-content/uploads/2018/08/005-100x100.png 100w, https://scrapeme.live/wp-content/uploads/2018/08/005-350x350.png 350w, https://scrapeme.live/wp-content/uploads/2018/08/005.png 475w\" width=\"250\"/><h2 class=\"woocommerce-loop-product__title\">Charmeleon</h2>\n",
       " <span class=\"price\"><span class=\"woocommerce-Price-amount amount\"><span class=\"woocommerce-Price-currencySymbol\">£</span>165.00</span></span>\n",
       " </a><a aria-label=\"Add “Charmeleon” to your basket\" class=\"button product_type_simple add_to_cart_button ajax_add_to_cart\" data-product_id=\"732\" data-product_sku=\"6565\" data-quantity=\"1\" href=\"/product-category/pokemon/?add-to-cart=732\" rel=\"nofollow\">Add to basket</a></li>\n",
       " <li class=\"post-733 product type-product status-publish has-post-thumbnail product_cat-flame product_cat-pokemon product_tag-blaze product_tag-charizard product_tag-flame instock sold-individually taxable shipping-taxable purchasable product-type-simple\">\n",
       " <a class=\"woocommerce-LoopProduct-link woocommerce-loop-product__link\" href=\"https://scrapeme.live/shop/Charizard/\"><img alt=\"\" class=\"attachment-woocommerce_thumbnail size-woocommerce_thumbnail wp-post-image\" height=\"250\" sizes=\"(max-width: 767px) 89vw, (max-width: 1000px) 54vw, (max-width: 1071px) 543px, 580px\" src=\"https://scrapeme.live/wp-content/uploads/2018/08/006-250x250.png\" srcset=\"https://scrapeme.live/wp-content/uploads/2018/08/006-250x250.png 250w, https://scrapeme.live/wp-content/uploads/2018/08/006-150x150.png 150w, https://scrapeme.live/wp-content/uploads/2018/08/006-300x300.png 300w, https://scrapeme.live/wp-content/uploads/2018/08/006-100x100.png 100w, https://scrapeme.live/wp-content/uploads/2018/08/006-350x350.png 350w, https://scrapeme.live/wp-content/uploads/2018/08/006.png 475w\" width=\"250\"/><h2 class=\"woocommerce-loop-product__title\">Charizard</h2>\n",
       " <span class=\"price\"><span class=\"woocommerce-Price-amount amount\"><span class=\"woocommerce-Price-currencySymbol\">£</span>156.00</span></span>\n",
       " </a><a aria-label=\"Add “Charizard” to your basket\" class=\"button product_type_simple add_to_cart_button ajax_add_to_cart\" data-product_id=\"733\" data-product_sku=\"8840\" data-quantity=\"1\" href=\"/product-category/pokemon/?add-to-cart=733\" rel=\"nofollow\">Add to basket</a></li>\n",
       " <li class=\"post-734 product type-product status-publish has-post-thumbnail product_cat-pokemon product_cat-tiny-turtle product_tag-squirtle product_tag-tiny-turtle product_tag-torrent instock sold-individually taxable shipping-taxable purchasable product-type-simple\">\n",
       " <a class=\"woocommerce-LoopProduct-link woocommerce-loop-product__link\" href=\"https://scrapeme.live/shop/Squirtle/\"><img alt=\"\" class=\"attachment-woocommerce_thumbnail size-woocommerce_thumbnail wp-post-image\" height=\"250\" sizes=\"(max-width: 767px) 89vw, (max-width: 1000px) 54vw, (max-width: 1071px) 543px, 580px\" src=\"https://scrapeme.live/wp-content/uploads/2018/08/007-250x250.png\" srcset=\"https://scrapeme.live/wp-content/uploads/2018/08/007-250x250.png 250w, https://scrapeme.live/wp-content/uploads/2018/08/007-150x150.png 150w, https://scrapeme.live/wp-content/uploads/2018/08/007-300x300.png 300w, https://scrapeme.live/wp-content/uploads/2018/08/007-100x100.png 100w, https://scrapeme.live/wp-content/uploads/2018/08/007-350x350.png 350w, https://scrapeme.live/wp-content/uploads/2018/08/007.png 475w\" width=\"250\"/><h2 class=\"woocommerce-loop-product__title\">Squirtle</h2>\n",
       " <span class=\"price\"><span class=\"woocommerce-Price-amount amount\"><span class=\"woocommerce-Price-currencySymbol\">£</span>130.00</span></span>\n",
       " </a><a aria-label=\"Add “Squirtle” to your basket\" class=\"button product_type_simple add_to_cart_button ajax_add_to_cart\" data-product_id=\"734\" data-product_sku=\"6094\" data-quantity=\"1\" href=\"/product-category/pokemon/?add-to-cart=734\" rel=\"nofollow\">Add to basket</a></li>\n",
       " <li class=\"post-735 product type-product status-publish has-post-thumbnail product_cat-pokemon product_cat-turtle product_tag-torrent product_tag-turtle product_tag-wartortle last instock sold-individually taxable shipping-taxable purchasable product-type-simple\">\n",
       " <a class=\"woocommerce-LoopProduct-link woocommerce-loop-product__link\" href=\"https://scrapeme.live/shop/Wartortle/\"><img alt=\"\" class=\"attachment-woocommerce_thumbnail size-woocommerce_thumbnail wp-post-image\" height=\"250\" sizes=\"(max-width: 767px) 89vw, (max-width: 1000px) 54vw, (max-width: 1071px) 543px, 580px\" src=\"https://scrapeme.live/wp-content/uploads/2018/08/008-250x250.png\" srcset=\"https://scrapeme.live/wp-content/uploads/2018/08/008-250x250.png 250w, https://scrapeme.live/wp-content/uploads/2018/08/008-150x150.png 150w, https://scrapeme.live/wp-content/uploads/2018/08/008-300x300.png 300w, https://scrapeme.live/wp-content/uploads/2018/08/008-100x100.png 100w, https://scrapeme.live/wp-content/uploads/2018/08/008-350x350.png 350w, https://scrapeme.live/wp-content/uploads/2018/08/008.png 475w\" width=\"250\"/><h2 class=\"woocommerce-loop-product__title\">Wartortle</h2>\n",
       " <span class=\"price\"><span class=\"woocommerce-Price-amount amount\"><span class=\"woocommerce-Price-currencySymbol\">£</span>123.00</span></span>\n",
       " </a><a aria-label=\"Add “Wartortle” to your basket\" class=\"button product_type_simple add_to_cart_button ajax_add_to_cart\" data-product_id=\"735\" data-product_sku=\"9659\" data-quantity=\"1\" href=\"/product-category/pokemon/?add-to-cart=735\" rel=\"nofollow\">Add to basket</a></li>\n",
       " <li class=\"post-736 product type-product status-publish has-post-thumbnail product_cat-pokemon product_cat-shellfish product_tag-blastoise product_tag-shellfish product_tag-torrent first instock sold-individually taxable shipping-taxable purchasable product-type-simple\">\n",
       " <a class=\"woocommerce-LoopProduct-link woocommerce-loop-product__link\" href=\"https://scrapeme.live/shop/Blastoise/\"><img alt=\"\" class=\"attachment-woocommerce_thumbnail size-woocommerce_thumbnail wp-post-image\" height=\"250\" sizes=\"(max-width: 767px) 89vw, (max-width: 1000px) 54vw, (max-width: 1071px) 543px, 580px\" src=\"https://scrapeme.live/wp-content/uploads/2018/08/009-250x250.png\" srcset=\"https://scrapeme.live/wp-content/uploads/2018/08/009-250x250.png 250w, https://scrapeme.live/wp-content/uploads/2018/08/009-150x150.png 150w, https://scrapeme.live/wp-content/uploads/2018/08/009-300x300.png 300w, https://scrapeme.live/wp-content/uploads/2018/08/009-100x100.png 100w, https://scrapeme.live/wp-content/uploads/2018/08/009-350x350.png 350w, https://scrapeme.live/wp-content/uploads/2018/08/009.png 475w\" width=\"250\"/><h2 class=\"woocommerce-loop-product__title\">Blastoise</h2>\n",
       " <span class=\"price\"><span class=\"woocommerce-Price-amount amount\"><span class=\"woocommerce-Price-currencySymbol\">£</span>76.00</span></span>\n",
       " </a><a aria-label=\"Add “Blastoise” to your basket\" class=\"button product_type_simple add_to_cart_button ajax_add_to_cart\" data-product_id=\"736\" data-product_sku=\"5212\" data-quantity=\"1\" href=\"/product-category/pokemon/?add-to-cart=736\" rel=\"nofollow\">Add to basket</a></li>\n",
       " <li class=\"post-737 product type-product status-publish has-post-thumbnail product_cat-pokemon product_cat-worm product_tag-caterpie product_tag-shield-dust product_tag-worm instock sold-individually taxable shipping-taxable purchasable product-type-simple\">\n",
       " <a class=\"woocommerce-LoopProduct-link woocommerce-loop-product__link\" href=\"https://scrapeme.live/shop/Caterpie/\"><img alt=\"\" class=\"attachment-woocommerce_thumbnail size-woocommerce_thumbnail wp-post-image\" height=\"250\" sizes=\"(max-width: 767px) 89vw, (max-width: 1000px) 54vw, (max-width: 1071px) 543px, 580px\" src=\"https://scrapeme.live/wp-content/uploads/2018/08/010-250x250.png\" srcset=\"https://scrapeme.live/wp-content/uploads/2018/08/010-250x250.png 250w, https://scrapeme.live/wp-content/uploads/2018/08/010-150x150.png 150w, https://scrapeme.live/wp-content/uploads/2018/08/010-300x300.png 300w, https://scrapeme.live/wp-content/uploads/2018/08/010-100x100.png 100w, https://scrapeme.live/wp-content/uploads/2018/08/010-350x350.png 350w, https://scrapeme.live/wp-content/uploads/2018/08/010.png 475w\" width=\"250\"/><h2 class=\"woocommerce-loop-product__title\">Caterpie</h2>\n",
       " <span class=\"price\"><span class=\"woocommerce-Price-amount amount\"><span class=\"woocommerce-Price-currencySymbol\">£</span>73.00</span></span>\n",
       " </a><a aria-label=\"Add “Caterpie” to your basket\" class=\"button product_type_simple add_to_cart_button ajax_add_to_cart\" data-product_id=\"737\" data-product_sku=\"7492\" data-quantity=\"1\" href=\"/product-category/pokemon/?add-to-cart=737\" rel=\"nofollow\">Add to basket</a></li>\n",
       " <li class=\"post-738 product type-product status-publish has-post-thumbnail product_cat-cocoon product_cat-pokemon product_tag-cocoon product_tag-metapod product_tag-shed-skin instock taxable shipping-taxable purchasable product-type-simple\">\n",
       " <a class=\"woocommerce-LoopProduct-link woocommerce-loop-product__link\" href=\"https://scrapeme.live/shop/Metapod/\"><img alt=\"\" class=\"attachment-woocommerce_thumbnail size-woocommerce_thumbnail wp-post-image\" height=\"250\" sizes=\"(max-width: 767px) 89vw, (max-width: 1000px) 54vw, (max-width: 1071px) 543px, 580px\" src=\"https://scrapeme.live/wp-content/uploads/2018/08/011-250x250.png\" srcset=\"https://scrapeme.live/wp-content/uploads/2018/08/011-250x250.png 250w, https://scrapeme.live/wp-content/uploads/2018/08/011-150x150.png 150w, https://scrapeme.live/wp-content/uploads/2018/08/011-300x300.png 300w, https://scrapeme.live/wp-content/uploads/2018/08/011-100x100.png 100w, https://scrapeme.live/wp-content/uploads/2018/08/011-350x350.png 350w, https://scrapeme.live/wp-content/uploads/2018/08/011.png 475w\" width=\"250\"/><h2 class=\"woocommerce-loop-product__title\">Metapod</h2>\n",
       " <span class=\"price\"><span class=\"woocommerce-Price-amount amount\"><span class=\"woocommerce-Price-currencySymbol\">£</span>148.00</span></span>\n",
       " </a><a aria-label=\"Add “Metapod” to your basket\" class=\"button product_type_simple add_to_cart_button ajax_add_to_cart\" data-product_id=\"738\" data-product_sku=\"2072\" data-quantity=\"1\" href=\"/product-category/pokemon/?add-to-cart=738\" rel=\"nofollow\">Add to basket</a></li>\n",
       " <li class=\"post-739 product type-product status-publish has-post-thumbnail product_cat-butterfly product_cat-pokemon product_tag-butterfly product_tag-butterfree product_tag-compound-eyes last instock sold-individually taxable shipping-taxable purchasable product-type-simple\">\n",
       " <a class=\"woocommerce-LoopProduct-link woocommerce-loop-product__link\" href=\"https://scrapeme.live/shop/Butterfree/\"><img alt=\"\" class=\"attachment-woocommerce_thumbnail size-woocommerce_thumbnail wp-post-image\" height=\"250\" sizes=\"(max-width: 767px) 89vw, (max-width: 1000px) 54vw, (max-width: 1071px) 543px, 580px\" src=\"https://scrapeme.live/wp-content/uploads/2018/08/012-250x250.png\" srcset=\"https://scrapeme.live/wp-content/uploads/2018/08/012-250x250.png 250w, https://scrapeme.live/wp-content/uploads/2018/08/012-150x150.png 150w, https://scrapeme.live/wp-content/uploads/2018/08/012-300x300.png 300w, https://scrapeme.live/wp-content/uploads/2018/08/012-100x100.png 100w, https://scrapeme.live/wp-content/uploads/2018/08/012-350x350.png 350w, https://scrapeme.live/wp-content/uploads/2018/08/012.png 475w\" width=\"250\"/><h2 class=\"woocommerce-loop-product__title\">Butterfree</h2>\n",
       " <span class=\"price\"><span class=\"woocommerce-Price-amount amount\"><span class=\"woocommerce-Price-currencySymbol\">£</span>162.00</span></span>\n",
       " </a><a aria-label=\"Add “Butterfree” to your basket\" class=\"button product_type_simple add_to_cart_button ajax_add_to_cart\" data-product_id=\"739\" data-product_sku=\"9507\" data-quantity=\"1\" href=\"/product-category/pokemon/?add-to-cart=739\" rel=\"nofollow\">Add to basket</a></li>\n",
       " <li class=\"post-740 product type-product status-publish has-post-thumbnail product_cat-hairy-bug product_cat-pokemon product_tag-hairy-bug product_tag-shield-dust product_tag-weedle first instock taxable shipping-taxable purchasable product-type-simple\">\n",
       " <a class=\"woocommerce-LoopProduct-link woocommerce-loop-product__link\" href=\"https://scrapeme.live/shop/Weedle/\"><img alt=\"\" class=\"attachment-woocommerce_thumbnail size-woocommerce_thumbnail wp-post-image\" height=\"250\" sizes=\"(max-width: 767px) 89vw, (max-width: 1000px) 54vw, (max-width: 1071px) 543px, 580px\" src=\"https://scrapeme.live/wp-content/uploads/2018/08/013-250x250.png\" srcset=\"https://scrapeme.live/wp-content/uploads/2018/08/013-250x250.png 250w, https://scrapeme.live/wp-content/uploads/2018/08/013-150x150.png 150w, https://scrapeme.live/wp-content/uploads/2018/08/013-300x300.png 300w, https://scrapeme.live/wp-content/uploads/2018/08/013-100x100.png 100w, https://scrapeme.live/wp-content/uploads/2018/08/013-350x350.png 350w, https://scrapeme.live/wp-content/uploads/2018/08/013.png 475w\" width=\"250\"/><h2 class=\"woocommerce-loop-product__title\">Weedle</h2>\n",
       " <span class=\"price\"><span class=\"woocommerce-Price-amount amount\"><span class=\"woocommerce-Price-currencySymbol\">£</span>25.00</span></span>\n",
       " </a><a aria-label=\"Add “Weedle” to your basket\" class=\"button product_type_simple add_to_cart_button ajax_add_to_cart\" data-product_id=\"740\" data-product_sku=\"7525\" data-quantity=\"1\" href=\"/product-category/pokemon/?add-to-cart=740\" rel=\"nofollow\">Add to basket</a></li>\n",
       " <li class=\"post-741 product type-product status-publish has-post-thumbnail product_cat-cocoon product_cat-pokemon product_tag-cocoon product_tag-kakuna product_tag-shed-skin instock taxable shipping-taxable purchasable product-type-simple\">\n",
       " <a class=\"woocommerce-LoopProduct-link woocommerce-loop-product__link\" href=\"https://scrapeme.live/shop/Kakuna/\"><img alt=\"\" class=\"attachment-woocommerce_thumbnail size-woocommerce_thumbnail wp-post-image\" height=\"250\" sizes=\"(max-width: 767px) 89vw, (max-width: 1000px) 54vw, (max-width: 1071px) 543px, 580px\" src=\"https://scrapeme.live/wp-content/uploads/2018/08/014-250x250.png\" srcset=\"https://scrapeme.live/wp-content/uploads/2018/08/014-250x250.png 250w, https://scrapeme.live/wp-content/uploads/2018/08/014-150x150.png 150w, https://scrapeme.live/wp-content/uploads/2018/08/014-300x300.png 300w, https://scrapeme.live/wp-content/uploads/2018/08/014-100x100.png 100w, https://scrapeme.live/wp-content/uploads/2018/08/014-350x350.png 350w, https://scrapeme.live/wp-content/uploads/2018/08/014.png 475w\" width=\"250\"/><h2 class=\"woocommerce-loop-product__title\">Kakuna</h2>\n",
       " <span class=\"price\"><span class=\"woocommerce-Price-amount amount\"><span class=\"woocommerce-Price-currencySymbol\">£</span>148.00</span></span>\n",
       " </a><a aria-label=\"Add “Kakuna” to your basket\" class=\"button product_type_simple add_to_cart_button ajax_add_to_cart\" data-product_id=\"741\" data-product_sku=\"1049\" data-quantity=\"1\" href=\"/product-category/pokemon/?add-to-cart=741\" rel=\"nofollow\">Add to basket</a></li>\n",
       " <li class=\"post-742 product type-product status-publish has-post-thumbnail product_cat-poison-bee product_cat-pokemon product_tag-beedrill product_tag-poison-bee product_tag-swarm instock sold-individually taxable shipping-taxable purchasable product-type-simple\">\n",
       " <a class=\"woocommerce-LoopProduct-link woocommerce-loop-product__link\" href=\"https://scrapeme.live/shop/Beedrill/\"><img alt=\"\" class=\"attachment-woocommerce_thumbnail size-woocommerce_thumbnail wp-post-image\" height=\"250\" sizes=\"(max-width: 767px) 89vw, (max-width: 1000px) 54vw, (max-width: 1071px) 543px, 580px\" src=\"https://scrapeme.live/wp-content/uploads/2018/08/015-250x250.png\" srcset=\"https://scrapeme.live/wp-content/uploads/2018/08/015-250x250.png 250w, https://scrapeme.live/wp-content/uploads/2018/08/015-150x150.png 150w, https://scrapeme.live/wp-content/uploads/2018/08/015-300x300.png 300w, https://scrapeme.live/wp-content/uploads/2018/08/015-100x100.png 100w, https://scrapeme.live/wp-content/uploads/2018/08/015-350x350.png 350w, https://scrapeme.live/wp-content/uploads/2018/08/015.png 475w\" width=\"250\"/><h2 class=\"woocommerce-loop-product__title\">Beedrill</h2>\n",
       " <span class=\"price\"><span class=\"woocommerce-Price-amount amount\"><span class=\"woocommerce-Price-currencySymbol\">£</span>168.00</span></span>\n",
       " </a><a aria-label=\"Add “Beedrill” to your basket\" class=\"button product_type_simple add_to_cart_button ajax_add_to_cart\" data-product_id=\"742\" data-product_sku=\"6542\" data-quantity=\"1\" href=\"/product-category/pokemon/?add-to-cart=742\" rel=\"nofollow\">Add to basket</a></li>\n",
       " <li class=\"post-743 product type-product status-publish has-post-thumbnail product_cat-pokemon product_cat-tiny-bird product_tag-keen-eye product_tag-pidgey product_tag-tiny-bird last instock sold-individually taxable shipping-taxable purchasable product-type-simple\">\n",
       " <a class=\"woocommerce-LoopProduct-link woocommerce-loop-product__link\" href=\"https://scrapeme.live/shop/Pidgey/\"><img alt=\"\" class=\"attachment-woocommerce_thumbnail size-woocommerce_thumbnail wp-post-image\" height=\"250\" sizes=\"(max-width: 767px) 89vw, (max-width: 1000px) 54vw, (max-width: 1071px) 543px, 580px\" src=\"https://scrapeme.live/wp-content/uploads/2018/08/016-250x250.png\" srcset=\"https://scrapeme.live/wp-content/uploads/2018/08/016-250x250.png 250w, https://scrapeme.live/wp-content/uploads/2018/08/016-150x150.png 150w, https://scrapeme.live/wp-content/uploads/2018/08/016-300x300.png 300w, https://scrapeme.live/wp-content/uploads/2018/08/016-100x100.png 100w, https://scrapeme.live/wp-content/uploads/2018/08/016-350x350.png 350w, https://scrapeme.live/wp-content/uploads/2018/08/016.png 475w\" width=\"250\"/><h2 class=\"woocommerce-loop-product__title\">Pidgey</h2>\n",
       " <span class=\"price\"><span class=\"woocommerce-Price-amount amount\"><span class=\"woocommerce-Price-currencySymbol\">£</span>159.00</span></span>\n",
       " </a><a aria-label=\"Add “Pidgey” to your basket\" class=\"button product_type_simple add_to_cart_button ajax_add_to_cart\" data-product_id=\"743\" data-product_sku=\"9452\" data-quantity=\"1\" href=\"/product-category/pokemon/?add-to-cart=743\" rel=\"nofollow\">Add to basket</a></li>\n",
       " </ul>]"
      ]
     },
     "execution_count": 7,
     "metadata": {},
     "output_type": "execute_result"
    }
   ],
   "source": [
    "\n",
    "selector = \"ul.products.columns-4\"\n",
    "pokemons_url = soup.select(selector)\n",
    "pokemons_url"
   ]
  }
 ],
 "metadata": {
  "kernelspec": {
   "display_name": "base",
   "language": "python",
   "name": "python3"
  },
  "language_info": {
   "codemirror_mode": {
    "name": "ipython",
    "version": 3
   },
   "file_extension": ".py",
   "mimetype": "text/x-python",
   "name": "python",
   "nbconvert_exporter": "python",
   "pygments_lexer": "ipython3",
   "version": "3.12.9"
  }
 },
 "nbformat": 4,
 "nbformat_minor": 2
}
