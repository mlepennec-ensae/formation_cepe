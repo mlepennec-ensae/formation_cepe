{
 "cells": [
  {
   "cell_type": "markdown",
   "metadata": {},
   "source": [
    "# Notebook 3 : SQL"
   ]
  },
  {
   "cell_type": "code",
   "execution_count": 1,
   "metadata": {},
   "outputs": [
    {
     "name": "stdout",
     "output_type": "stream",
     "text": [
      "Defaulting to user installation because normal site-packages is not writeable\n",
      "Requirement already satisfied: ibis-framework[sqlite] in c:\\users\\cepe-s3-08\\appdata\\roaming\\python\\python311\\site-packages (10.5.0)\n",
      "Requirement already satisfied: atpublic>=2.3 in c:\\users\\cepe-s3-08\\appdata\\roaming\\python\\python311\\site-packages (from ibis-framework[sqlite]) (6.0.1)\n",
      "Requirement already satisfied: parsy>=2 in c:\\users\\cepe-s3-08\\appdata\\roaming\\python\\python311\\site-packages (from ibis-framework[sqlite]) (2.1)\n",
      "Requirement already satisfied: python-dateutil>=2.8.2 in c:\\programdata\\anaconda3\\lib\\site-packages (from ibis-framework[sqlite]) (2.8.2)\n",
      "Requirement already satisfied: sqlglot>=23.4 in c:\\users\\cepe-s3-08\\appdata\\roaming\\python\\python311\\site-packages (from ibis-framework[sqlite]) (26.17.1)\n",
      "Requirement already satisfied: toolz>=0.11 in c:\\programdata\\anaconda3\\lib\\site-packages (from ibis-framework[sqlite]) (0.12.0)\n",
      "Requirement already satisfied: typing-extensions>=4.3.0 in c:\\programdata\\anaconda3\\lib\\site-packages (from ibis-framework[sqlite]) (4.6.3)\n",
      "Requirement already satisfied: tzdata>=2022.7 in c:\\users\\cepe-s3-08\\appdata\\roaming\\python\\python311\\site-packages (from ibis-framework[sqlite]) (2025.2)\n",
      "Requirement already satisfied: numpy<3,>=1.23.2 in c:\\programdata\\anaconda3\\lib\\site-packages (from ibis-framework[sqlite]) (1.24.3)\n",
      "Requirement already satisfied: pandas<3,>=1.5.3 in c:\\programdata\\anaconda3\\lib\\site-packages (from ibis-framework[sqlite]) (1.5.3)\n",
      "Requirement already satisfied: pyarrow-hotfix>=0.4 in c:\\users\\cepe-s3-08\\appdata\\roaming\\python\\python311\\site-packages (from ibis-framework[sqlite]) (0.7)\n",
      "Requirement already satisfied: pyarrow>=10.0.1 in c:\\programdata\\anaconda3\\lib\\site-packages (from ibis-framework[sqlite]) (11.0.0)\n",
      "Requirement already satisfied: regex>=2021.7.6 in c:\\programdata\\anaconda3\\lib\\site-packages (from ibis-framework[sqlite]) (2022.7.9)\n",
      "Requirement already satisfied: rich>=12.4.4 in c:\\users\\cepe-s3-08\\appdata\\roaming\\python\\python311\\site-packages (from ibis-framework[sqlite]) (14.0.0)\n",
      "Requirement already satisfied: pytz>=2020.1 in c:\\programdata\\anaconda3\\lib\\site-packages (from pandas<3,>=1.5.3->ibis-framework[sqlite]) (2022.7)\n",
      "Requirement already satisfied: six>=1.5 in c:\\programdata\\anaconda3\\lib\\site-packages (from python-dateutil>=2.8.2->ibis-framework[sqlite]) (1.16.0)\n",
      "Requirement already satisfied: markdown-it-py>=2.2.0 in c:\\programdata\\anaconda3\\lib\\site-packages (from rich>=12.4.4->ibis-framework[sqlite]) (2.2.0)\n",
      "Requirement already satisfied: pygments<3.0.0,>=2.13.0 in c:\\programdata\\anaconda3\\lib\\site-packages (from rich>=12.4.4->ibis-framework[sqlite]) (2.15.1)\n",
      "Requirement already satisfied: mdurl~=0.1 in c:\\programdata\\anaconda3\\lib\\site-packages (from markdown-it-py>=2.2.0->rich>=12.4.4->ibis-framework[sqlite]) (0.1.0)\n",
      "Note: you may need to restart the kernel to use updated packages.\n"
     ]
    }
   ],
   "source": [
    "# Décommenter la ligne suivante pour installer ibis\n",
    "%pip install ibis-framework[sqlite]"
   ]
  },
  {
   "cell_type": "code",
   "execution_count": 1,
   "metadata": {},
   "outputs": [],
   "source": [
    "import sqlite3\n",
    "\n",
    "import pandas as pd\n",
    "import ibis\n",
    "\n",
    "from ibis import _\n",
    "\n",
    "ibis.options.interactive = True\n",
    "\n",
    "query_tables = \"SELECT name FROM sqlite_master WHERE type='table'\""
   ]
  },
  {
   "cell_type": "markdown",
   "metadata": {},
   "source": [
    "## STAR"
   ]
  },
  {
   "cell_type": "markdown",
   "metadata": {},
   "source": [
    "Nous considérons les données des stations de vélos en libre service [STAR](https://www.star.fr/) de Rennes Métropole. Une copie de la base SQLite est disponible dans le fichier `star.db`. Nous utilisons d'abord Pandas pour répondre aux questions, puis Ibis."
   ]
  },
  {
   "cell_type": "markdown",
   "metadata": {},
   "source": [
    "1. Se connecter à la base de données et afficher la liste des tables à l'aide de la fonction `read_sql` de Pandas et de la requête `query_tables`."
   ]
  },
  {
   "cell_type": "code",
   "execution_count": 3,
   "metadata": {
    "scrolled": true
   },
   "outputs": [
    {
     "data": {
      "text/html": [
       "<div>\n",
       "<style scoped>\n",
       "    .dataframe tbody tr th:only-of-type {\n",
       "        vertical-align: middle;\n",
       "    }\n",
       "\n",
       "    .dataframe tbody tr th {\n",
       "        vertical-align: top;\n",
       "    }\n",
       "\n",
       "    .dataframe thead th {\n",
       "        text-align: right;\n",
       "    }\n",
       "</style>\n",
       "<table border=\"1\" class=\"dataframe\">\n",
       "  <thead>\n",
       "    <tr style=\"text-align: right;\">\n",
       "      <th></th>\n",
       "      <th>name</th>\n",
       "    </tr>\n",
       "  </thead>\n",
       "  <tbody>\n",
       "    <tr>\n",
       "      <th>0</th>\n",
       "      <td>Topologie</td>\n",
       "    </tr>\n",
       "    <tr>\n",
       "      <th>1</th>\n",
       "      <td>Etat</td>\n",
       "    </tr>\n",
       "  </tbody>\n",
       "</table>\n",
       "</div>"
      ],
      "text/plain": [
       "        name\n",
       "0  Topologie\n",
       "1       Etat"
      ]
     },
     "execution_count": 3,
     "metadata": {},
     "output_type": "execute_result"
    }
   ],
   "source": [
    "con = sqlite3.connect(\"data\\\\star.db\")\n",
    "pd.read_sql(query_tables, con)"
   ]
  },
  {
   "cell_type": "markdown",
   "metadata": {},
   "source": [
    "2. Récupérer le contenu de la table `Etat` dans un dataframe et afficher la liste des variables disponibles. Même question pour la table `Topologie`."
   ]
  },
  {
   "cell_type": "code",
   "execution_count": 5,
   "metadata": {},
   "outputs": [
    {
     "name": "stdout",
     "output_type": "stream",
     "text": [
      "id                            int64\n",
      "nom                          object\n",
      "latitude                    float64\n",
      "longitude                   float64\n",
      "etat                         object\n",
      "nb_emplacements               int64\n",
      "emplacements_disponibles      int64\n",
      "velos_disponibles             int64\n",
      "date                        float64\n",
      "data                         object\n",
      "dtype: object\n",
      "id                     int64\n",
      "nom                   object\n",
      "adresse_numero        object\n",
      "adresse_voie          object\n",
      "commune               object\n",
      "latitude             float64\n",
      "longitude            float64\n",
      "id_correspondance    float64\n",
      "mise_en_service      float64\n",
      "nb_emplacements        int64\n",
      "id_proche_1            int64\n",
      "id_proche_2            int64\n",
      "id_proche_3            int64\n",
      "terminal_cb           object\n",
      "dtype: object\n"
     ]
    }
   ],
   "source": [
    "df_etat = pd.read_sql(\"SELECT * FROM Etat\", con)\n",
    "print(df_etat.dtypes)\n",
    "df_topologie = pd.read_sql(\"SELECT * FROM Topologie\", con)\n",
    "print(df_topologie.dtypes)"
   ]
  },
  {
   "cell_type": "markdown",
   "metadata": {},
   "source": [
    "3. Sélectionner l'identifiant `id`, le nom `nom` et l'identifiant de la station la plus proche `id_proche_1` depuis la table `Topologie`."
   ]
  },
  {
   "cell_type": "code",
   "execution_count": 8,
   "metadata": {},
   "outputs": [
    {
     "name": "stdout",
     "output_type": "stream",
     "text": [
      "    id                nom  id_proche_1\n",
      "0    1         République            2\n",
      "1    2             Mairie            1\n",
      "2    3      Champ Jacquet            2\n",
      "3   10   Musée Beaux-Arts           12\n",
      "4   12                TNB           10\n",
      "..  ..                ...          ...\n",
      "78  62         Clemenceau           63\n",
      "79  66  Bréquigny Piscine           65\n",
      "80  69    Champs Manceaux           66\n",
      "81  85       La Courrouze           20\n",
      "82  86          Armorique           78\n",
      "\n",
      "[83 rows x 3 columns]\n"
     ]
    }
   ],
   "source": [
    "query_base = \"\"\"\n",
    "SELECT\n",
    "id,\n",
    "nom,\n",
    "id_proche_1\n",
    "FROM Topologie\n",
    "\"\"\"\n",
    "\n",
    "print(\n",
    "pd.read_sql(query_base, con))\n",
    "proche_df=pd.read_sql(query_base, con)"
   ]
  },
  {
   "cell_type": "markdown",
   "metadata": {},
   "source": [
    "4. Faire une jointure sur la table précédente pour créer une table qui contient la liste des stations avec l'identifiant, le nom et le nom de la station la plus proche associée à l'identifiant `id_proche_1`. Les variables utilisées comme clés sont différents, penser à utiliser les arguments `left_on` et `right_on` de la méthode `merge`."
   ]
  },
  {
   "cell_type": "code",
   "execution_count": 18,
   "metadata": {},
   "outputs": [
    {
     "data": {
      "text/html": [
       "<div>\n",
       "<style scoped>\n",
       "    .dataframe tbody tr th:only-of-type {\n",
       "        vertical-align: middle;\n",
       "    }\n",
       "\n",
       "    .dataframe tbody tr th {\n",
       "        vertical-align: top;\n",
       "    }\n",
       "\n",
       "    .dataframe thead th {\n",
       "        text-align: right;\n",
       "    }\n",
       "</style>\n",
       "<table border=\"1\" class=\"dataframe\">\n",
       "  <thead>\n",
       "    <tr style=\"text-align: right;\">\n",
       "      <th></th>\n",
       "      <th>id</th>\n",
       "      <th>nom</th>\n",
       "      <th>nom_proche_1</th>\n",
       "    </tr>\n",
       "  </thead>\n",
       "  <tbody>\n",
       "    <tr>\n",
       "      <th>0</th>\n",
       "      <td>1</td>\n",
       "      <td>République</td>\n",
       "      <td>Mairie</td>\n",
       "    </tr>\n",
       "    <tr>\n",
       "      <th>1</th>\n",
       "      <td>2</td>\n",
       "      <td>Mairie</td>\n",
       "      <td>République</td>\n",
       "    </tr>\n",
       "    <tr>\n",
       "      <th>2</th>\n",
       "      <td>3</td>\n",
       "      <td>Champ Jacquet</td>\n",
       "      <td>Mairie</td>\n",
       "    </tr>\n",
       "    <tr>\n",
       "      <th>3</th>\n",
       "      <td>10</td>\n",
       "      <td>Musée Beaux-Arts</td>\n",
       "      <td>TNB</td>\n",
       "    </tr>\n",
       "    <tr>\n",
       "      <th>4</th>\n",
       "      <td>12</td>\n",
       "      <td>TNB</td>\n",
       "      <td>Musée Beaux-Arts</td>\n",
       "    </tr>\n",
       "    <tr>\n",
       "      <th>...</th>\n",
       "      <td>...</td>\n",
       "      <td>...</td>\n",
       "      <td>...</td>\n",
       "    </tr>\n",
       "    <tr>\n",
       "      <th>78</th>\n",
       "      <td>62</td>\n",
       "      <td>Clemenceau</td>\n",
       "      <td>Henri Fréville</td>\n",
       "    </tr>\n",
       "    <tr>\n",
       "      <th>79</th>\n",
       "      <td>66</td>\n",
       "      <td>Bréquigny Piscine</td>\n",
       "      <td>NaN</td>\n",
       "    </tr>\n",
       "    <tr>\n",
       "      <th>80</th>\n",
       "      <td>69</td>\n",
       "      <td>Champs Manceaux</td>\n",
       "      <td>Bréquigny Piscine</td>\n",
       "    </tr>\n",
       "    <tr>\n",
       "      <th>81</th>\n",
       "      <td>85</td>\n",
       "      <td>La Courrouze</td>\n",
       "      <td>Pont de Nantes</td>\n",
       "    </tr>\n",
       "    <tr>\n",
       "      <th>82</th>\n",
       "      <td>86</td>\n",
       "      <td>Armorique</td>\n",
       "      <td>Gros-Chêne</td>\n",
       "    </tr>\n",
       "  </tbody>\n",
       "</table>\n",
       "<p>83 rows × 3 columns</p>\n",
       "</div>"
      ],
      "text/plain": [
       "    id                nom       nom_proche_1\n",
       "0    1         République             Mairie\n",
       "1    2             Mairie         République\n",
       "2    3      Champ Jacquet             Mairie\n",
       "3   10   Musée Beaux-Arts                TNB\n",
       "4   12                TNB   Musée Beaux-Arts\n",
       "..  ..                ...                ...\n",
       "78  62         Clemenceau     Henri Fréville\n",
       "79  66  Bréquigny Piscine                NaN\n",
       "80  69    Champs Manceaux  Bréquigny Piscine\n",
       "81  85       La Courrouze     Pont de Nantes\n",
       "82  86          Armorique         Gros-Chêne\n",
       "\n",
       "[83 rows x 3 columns]"
      ]
     },
     "execution_count": 18,
     "metadata": {},
     "output_type": "execute_result"
    }
   ],
   "source": [
    "(\n",
    "    proche_df\n",
    "    .merge(df_topologie[[\"id\", \"nom\"]], how=\"left\", left_on = \"id_proche_1\", right_on=\"id\")\n",
    "    .filter(items=[\"id_x\", \"nom_x\", \"nom_y\"])\n",
    "    .rename(columns={\n",
    "        \"id_x\" : \"id\",\n",
    "        \"nom_x\" : \"nom\",\n",
    "        \"nom_y\" : \"nom_proche_1\",\n",
    "    })\n",
    ")"
   ]
  },
  {
   "cell_type": "markdown",
   "metadata": {},
   "source": [
    "5. Ajouter à la table précédente la distance entre la station et la station la plus proche."
   ]
  },
  {
   "cell_type": "code",
   "execution_count": 27,
   "metadata": {},
   "outputs": [
    {
     "name": "stdout",
     "output_type": "stream",
     "text": [
      "    id                nom       nom_proche_1   latitude  longitude  \\\n",
      "0    1         République             Mairie  48.111624  -1.678757   \n",
      "1    2             Mairie         République  48.110026  -1.678037   \n",
      "2    3      Champ Jacquet             Mairie  48.111624  -1.678757   \n",
      "3   10   Musée Beaux-Arts                TNB  48.107748  -1.673711   \n",
      "4   12                TNB   Musée Beaux-Arts  48.109601  -1.674080   \n",
      "..  ..                ...                ...        ...        ...   \n",
      "78  62         Clemenceau     Henri Fréville  48.087337  -1.674849   \n",
      "79  66  Bréquigny Piscine                NaN        NaN        NaN   \n",
      "80  69    Champs Manceaux  Bréquigny Piscine  48.089621  -1.690242   \n",
      "81  85       La Courrouze     Pont de Nantes  48.102015  -1.684015   \n",
      "82  86          Armorique         Gros-Chêne  48.126795  -1.665101   \n",
      "\n",
      "    latitude_proche_1  longitude_proche_1  distance  \n",
      "0           48.110026           -1.678037  0.000003  \n",
      "1           48.111624           -1.678757  0.000003  \n",
      "2           48.112764           -1.680062  0.000003  \n",
      "3           48.109601           -1.674080  0.000004  \n",
      "4           48.107748           -1.673711  0.000004  \n",
      "..                ...                 ...       ...  \n",
      "78          48.093292           -1.674116  0.000036  \n",
      "79          48.089621           -1.690242       NaN  \n",
      "80          48.091114           -1.682284  0.000066  \n",
      "81          48.098909           -1.694523  0.000120  \n",
      "82          48.129754           -1.675788  0.000123  \n",
      "\n",
      "[83 rows x 8 columns]\n"
     ]
    }
   ],
   "source": [
    "station_df = (\n",
    "    proche_df\n",
    "    .merge(df_topologie[[\"id\", \"nom\", \"latitude\", \"longitude\"]], how=\"left\", left_on = \"id_proche_1\", right_on=\"id\")\n",
    "    .filter(items=[\"id_x\", \"nom_x\", \"nom_y\", \"latitude\", \"longitude\"])\n",
    "    .rename(columns={\n",
    "        \"id_x\" : \"id\",\n",
    "        \"nom_x\" : \"nom\",\n",
    "        \"nom_y\" : \"nom_proche_1\"\n",
    "    })\n",
    "    .merge(df_topologie[[\"id\", \"latitude\", \"longitude\"]], how=\"left\", left_on = \"id\", right_on=\"id\", suffixes=[\"\", \"_proche_1\"])\n",
    ")\n",
    "station_df[\"distance\"] = (station_df.latitude - station_df.latitude_proche_1)**2 + (station_df.longitude - station_df.longitude_proche_1)**2\n",
    "print(station_df)"
   ]
  },
  {
   "cell_type": "markdown",
   "metadata": {},
   "source": [
    "6. Créer une table avec le nom des trois stations les plus proches du point GPS *(48.1179151,-1.7028661)* classées par ordre de distance et le nombre de vélos disponibles dans ces stations."
   ]
  },
  {
   "cell_type": "code",
   "execution_count": 33,
   "metadata": {},
   "outputs": [
    {
     "name": "stdout",
     "output_type": "stream",
     "text": [
      "    id                nom   latitude  longitude               etat  \\\n",
      "0    1         République  48.110026  -1.678037  En fonctionnement   \n",
      "1    2             Mairie  48.111624  -1.678757  En fonctionnement   \n",
      "2    3      Champ Jacquet  48.112764  -1.680062  En fonctionnement   \n",
      "3   10   Musée Beaux-Arts  48.109601  -1.674080  En fonctionnement   \n",
      "4   12                TNB  48.107748  -1.673711  En fonctionnement   \n",
      "..  ..                ...        ...        ...                ...   \n",
      "78  62         Clemenceau  48.093292  -1.674116  En fonctionnement   \n",
      "79  66  Bréquigny Piscine  48.089621  -1.690242  En fonctionnement   \n",
      "80  69    Champs Manceaux  48.091114  -1.682284  En fonctionnement   \n",
      "81  85       La Courrouze  48.098909  -1.694523  En fonctionnement   \n",
      "82  86          Armorique  48.129754  -1.675788  En fonctionnement   \n",
      "\n",
      "    nb_emplacements  emplacements_disponibles  velos_disponibles  \\\n",
      "0                30                        25                  5   \n",
      "1                24                         6                 18   \n",
      "2                24                         8                 16   \n",
      "3                16                         4                 12   \n",
      "4                28                        16                 12   \n",
      "..              ...                       ...                ...   \n",
      "78               22                        18                  4   \n",
      "79               24                        19                  5   \n",
      "80               18                        12                  6   \n",
      "81               20                        16                  4   \n",
      "82               24                        11                 13   \n",
      "\n",
      "            date                 data  distance_point  \n",
      "0   1.524646e+09  2018-04-25 08:47:04        0.000679  \n",
      "1   1.524646e+09  2018-04-25 08:47:04        0.000621  \n",
      "2   1.524646e+09  2018-04-25 08:47:04        0.000547  \n",
      "3   1.524646e+09  2018-04-25 08:47:04        0.000898  \n",
      "4   1.524646e+09  2018-04-25 08:47:04        0.000953  \n",
      "..           ...                  ...             ...  \n",
      "78  1.524646e+09  2018-04-25 08:47:04        0.001433  \n",
      "79  1.524646e+09  2018-04-25 08:47:04        0.000960  \n",
      "80  1.524646e+09  2018-04-25 08:47:04        0.001142  \n",
      "81  1.524646e+09  2018-04-25 08:47:04        0.000431  \n",
      "82  1.524646e+09  2018-04-25 08:47:04        0.000873  \n",
      "\n",
      "[83 rows x 11 columns]\n"
     ]
    }
   ],
   "source": [
    "df_etat[\"distance_point\"] = (df_etat.latitude - 48.1179151)**2 + (df_etat.longitude + 1.7028661)**2\n",
    "print(df_etat)"
   ]
  },
  {
   "cell_type": "code",
   "execution_count": 41,
   "metadata": {},
   "outputs": [
    {
     "data": {
      "text/html": [
       "<div>\n",
       "<style scoped>\n",
       "    .dataframe tbody tr th:only-of-type {\n",
       "        vertical-align: middle;\n",
       "    }\n",
       "\n",
       "    .dataframe tbody tr th {\n",
       "        vertical-align: top;\n",
       "    }\n",
       "\n",
       "    .dataframe thead th {\n",
       "        text-align: right;\n",
       "    }\n",
       "</style>\n",
       "<table border=\"1\" class=\"dataframe\">\n",
       "  <thead>\n",
       "    <tr style=\"text-align: right;\">\n",
       "      <th></th>\n",
       "      <th>id</th>\n",
       "      <th>nom</th>\n",
       "      <th>latitude</th>\n",
       "      <th>longitude</th>\n",
       "      <th>etat</th>\n",
       "      <th>nb_emplacements</th>\n",
       "      <th>emplacements_disponibles</th>\n",
       "      <th>velos_disponibles</th>\n",
       "      <th>date</th>\n",
       "      <th>data</th>\n",
       "      <th>distance_point</th>\n",
       "    </tr>\n",
       "  </thead>\n",
       "  <tbody>\n",
       "    <tr>\n",
       "      <th>50</th>\n",
       "      <td>56</td>\n",
       "      <td>Berger</td>\n",
       "      <td>48.116314</td>\n",
       "      <td>-1.705097</td>\n",
       "      <td>En fonctionnement</td>\n",
       "      <td>14</td>\n",
       "      <td>4</td>\n",
       "      <td>10</td>\n",
       "      <td>1.524646e+09</td>\n",
       "      <td>2018-04-25 08:47:04</td>\n",
       "      <td>0.000008</td>\n",
       "    </tr>\n",
       "    <tr>\n",
       "      <th>17</th>\n",
       "      <td>52</td>\n",
       "      <td>Villejean-Université</td>\n",
       "      <td>48.121076</td>\n",
       "      <td>-1.704122</td>\n",
       "      <td>En fonctionnement</td>\n",
       "      <td>24</td>\n",
       "      <td>13</td>\n",
       "      <td>11</td>\n",
       "      <td>1.524646e+09</td>\n",
       "      <td>2018-04-25 08:47:04</td>\n",
       "      <td>0.000012</td>\n",
       "    </tr>\n",
       "    <tr>\n",
       "      <th>74</th>\n",
       "      <td>38</td>\n",
       "      <td>Marbeuf</td>\n",
       "      <td>48.111749</td>\n",
       "      <td>-1.702077</td>\n",
       "      <td>En fonctionnement</td>\n",
       "      <td>19</td>\n",
       "      <td>10</td>\n",
       "      <td>9</td>\n",
       "      <td>1.524646e+09</td>\n",
       "      <td>2018-04-25 08:47:04</td>\n",
       "      <td>0.000039</td>\n",
       "    </tr>\n",
       "  </tbody>\n",
       "</table>\n",
       "</div>"
      ],
      "text/plain": [
       "    id                   nom   latitude  longitude               etat  \\\n",
       "50  56                Berger  48.116314  -1.705097  En fonctionnement   \n",
       "17  52  Villejean-Université  48.121076  -1.704122  En fonctionnement   \n",
       "74  38               Marbeuf  48.111749  -1.702077  En fonctionnement   \n",
       "\n",
       "    nb_emplacements  emplacements_disponibles  velos_disponibles  \\\n",
       "50               14                         4                 10   \n",
       "17               24                        13                 11   \n",
       "74               19                        10                  9   \n",
       "\n",
       "            date                 data  distance_point  \n",
       "50  1.524646e+09  2018-04-25 08:47:04        0.000008  \n",
       "17  1.524646e+09  2018-04-25 08:47:04        0.000012  \n",
       "74  1.524646e+09  2018-04-25 08:47:04        0.000039  "
      ]
     },
     "execution_count": 41,
     "metadata": {},
     "output_type": "execute_result"
    }
   ],
   "source": [
    "df_etat.sort_values(by=[\"distance_point\", \"velos_disponibles\"]).head(3)\n"
   ]
  },
  {
   "cell_type": "markdown",
   "metadata": {},
   "source": [
    "7. Reprendre les questions précédentes en utilisant le module `ibis`. Pour les jointures, utiliser la méthode `left_join`."
   ]
  },
  {
   "cell_type": "code",
   "execution_count": 36,
   "metadata": {},
   "outputs": [
    {
     "data": {
      "text/plain": [
       "['Etat', 'Topologie']"
      ]
     },
     "execution_count": 36,
     "metadata": {},
     "output_type": "execute_result"
    }
   ],
   "source": [
    "con = ibis.sqlite.connect(\"data\\\\star.db\")\n",
    "con.list_tables()"
   ]
  },
  {
   "cell_type": "code",
   "execution_count": 37,
   "metadata": {},
   "outputs": [
    {
     "data": {
      "text/plain": [
       "('id',\n",
       " 'nom',\n",
       " 'latitude',\n",
       " 'longitude',\n",
       " 'etat',\n",
       " 'nb_emplacements',\n",
       " 'emplacements_disponibles',\n",
       " 'velos_disponibles',\n",
       " 'date',\n",
       " 'data')"
      ]
     },
     "execution_count": 37,
     "metadata": {},
     "output_type": "execute_result"
    }
   ],
   "source": [
    "etat = con.table(\"Etat\")\n",
    "etat.columns"
   ]
  },
  {
   "cell_type": "code",
   "execution_count": 38,
   "metadata": {},
   "outputs": [
    {
     "data": {
      "text/plain": [
       "('id',\n",
       " 'nom',\n",
       " 'adresse_numero',\n",
       " 'adresse_voie',\n",
       " 'commune',\n",
       " 'latitude',\n",
       " 'longitude',\n",
       " 'id_correspondance',\n",
       " 'mise_en_service',\n",
       " 'nb_emplacements',\n",
       " 'id_proche_1',\n",
       " 'id_proche_2',\n",
       " 'id_proche_3',\n",
       " 'terminal_cb')"
      ]
     },
     "execution_count": 38,
     "metadata": {},
     "output_type": "execute_result"
    }
   ],
   "source": [
    "topologie = con.table(\"Topologie\")\n",
    "topologie.columns"
   ]
  },
  {
   "cell_type": "code",
   "execution_count": 51,
   "metadata": {},
   "outputs": [],
   "source": [
    "topologie_ibis = topologie.select(\"id\", \"nom\", \"id_proche_1\", \"latitude\", \"longitude\")"
   ]
  },
  {
   "cell_type": "code",
   "execution_count": 58,
   "metadata": {},
   "outputs": [
    {
     "data": {
      "text/html": [
       "<pre style=\"white-space:pre;overflow-x:auto;line-height:normal;font-family:Menlo,'DejaVu Sans Mono',consolas,'Courier New',monospace\">┏━━━━━━━┳━━━━━━━━━━━━━━━━━━━━┳━━━━━━━━━━━┳━━━━━━━━━━━┳━━━━━━━━━━━━━━━━━━━━┳━━━━━━━━━━━━━━━━┳━━━━━━━━━━━━━━━━━┓\n",
       "┃<span style=\"font-weight: bold\"> id    </span>┃<span style=\"font-weight: bold\"> nom                </span>┃<span style=\"font-weight: bold\"> latitude  </span>┃<span style=\"font-weight: bold\"> longitude </span>┃<span style=\"font-weight: bold\"> nom_right          </span>┃<span style=\"font-weight: bold\"> latitude_right </span>┃<span style=\"font-weight: bold\"> longitude_right </span>┃\n",
       "┡━━━━━━━╇━━━━━━━━━━━━━━━━━━━━╇━━━━━━━━━━━╇━━━━━━━━━━━╇━━━━━━━━━━━━━━━━━━━━╇━━━━━━━━━━━━━━━━╇━━━━━━━━━━━━━━━━━┩\n",
       "│ <span style=\"color: #7f7f7f; text-decoration-color: #7f7f7f\">int64</span> │ <span style=\"color: #7f7f7f; text-decoration-color: #7f7f7f\">string</span>             │ <span style=\"color: #7f7f7f; text-decoration-color: #7f7f7f\">float64</span>   │ <span style=\"color: #7f7f7f; text-decoration-color: #7f7f7f\">float64</span>   │ <span style=\"color: #7f7f7f; text-decoration-color: #7f7f7f\">string</span>             │ <span style=\"color: #7f7f7f; text-decoration-color: #7f7f7f\">float64</span>        │ <span style=\"color: #7f7f7f; text-decoration-color: #7f7f7f\">float64</span>         │\n",
       "├───────┼────────────────────┼───────────┼───────────┼────────────────────┼────────────────┼─────────────────┤\n",
       "│     <span style=\"color: #008080; text-decoration-color: #008080; font-weight: bold\">1</span> │ <span style=\"color: #008000; text-decoration-color: #008000\">République        </span> │ <span style=\"color: #008080; text-decoration-color: #008080; font-weight: bold\">48.110026</span> │ <span style=\"color: #008080; text-decoration-color: #008080; font-weight: bold\">-1.678037</span> │ <span style=\"color: #008000; text-decoration-color: #008000\">Mairie            </span> │      <span style=\"color: #008080; text-decoration-color: #008080; font-weight: bold\">48.111624</span> │       <span style=\"color: #008080; text-decoration-color: #008080; font-weight: bold\">-1.678757</span> │\n",
       "│     <span style=\"color: #008080; text-decoration-color: #008080; font-weight: bold\">2</span> │ <span style=\"color: #008000; text-decoration-color: #008000\">Mairie            </span> │ <span style=\"color: #008080; text-decoration-color: #008080; font-weight: bold\">48.111624</span> │ <span style=\"color: #008080; text-decoration-color: #008080; font-weight: bold\">-1.678757</span> │ <span style=\"color: #008000; text-decoration-color: #008000\">République        </span> │      <span style=\"color: #008080; text-decoration-color: #008080; font-weight: bold\">48.110026</span> │       <span style=\"color: #008080; text-decoration-color: #008080; font-weight: bold\">-1.678037</span> │\n",
       "│     <span style=\"color: #008080; text-decoration-color: #008080; font-weight: bold\">3</span> │ <span style=\"color: #008000; text-decoration-color: #008000\">Champ Jacquet     </span> │ <span style=\"color: #008080; text-decoration-color: #008080; font-weight: bold\">48.112764</span> │ <span style=\"color: #008080; text-decoration-color: #008080; font-weight: bold\">-1.680062</span> │ <span style=\"color: #008000; text-decoration-color: #008000\">Mairie            </span> │      <span style=\"color: #008080; text-decoration-color: #008080; font-weight: bold\">48.111624</span> │       <span style=\"color: #008080; text-decoration-color: #008080; font-weight: bold\">-1.678757</span> │\n",
       "│    <span style=\"color: #008080; text-decoration-color: #008080; font-weight: bold\">10</span> │ <span style=\"color: #008000; text-decoration-color: #008000\">Musée Beaux-Arts  </span> │ <span style=\"color: #008080; text-decoration-color: #008080; font-weight: bold\">48.109601</span> │ <span style=\"color: #008080; text-decoration-color: #008080; font-weight: bold\">-1.674080</span> │ <span style=\"color: #008000; text-decoration-color: #008000\">TNB               </span> │      <span style=\"color: #008080; text-decoration-color: #008080; font-weight: bold\">48.107748</span> │       <span style=\"color: #008080; text-decoration-color: #008080; font-weight: bold\">-1.673711</span> │\n",
       "│    <span style=\"color: #008080; text-decoration-color: #008080; font-weight: bold\">12</span> │ <span style=\"color: #008000; text-decoration-color: #008000\">TNB               </span> │ <span style=\"color: #008080; text-decoration-color: #008080; font-weight: bold\">48.107748</span> │ <span style=\"color: #008080; text-decoration-color: #008080; font-weight: bold\">-1.673711</span> │ <span style=\"color: #008000; text-decoration-color: #008000\">Musée Beaux-Arts  </span> │      <span style=\"color: #008080; text-decoration-color: #008080; font-weight: bold\">48.109601</span> │       <span style=\"color: #008080; text-decoration-color: #008080; font-weight: bold\">-1.674080</span> │\n",
       "│    <span style=\"color: #008080; text-decoration-color: #008080; font-weight: bold\">14</span> │ <span style=\"color: #008000; text-decoration-color: #008000\">Laënnec           </span> │ <span style=\"color: #008080; text-decoration-color: #008080; font-weight: bold\">48.106847</span> │ <span style=\"color: #008080; text-decoration-color: #008080; font-weight: bold\">-1.665817</span> │ <span style=\"color: #008000; text-decoration-color: #008000\">Pont de Châteaudun</span> │      <span style=\"color: #008080; text-decoration-color: #008080; font-weight: bold\">48.110264</span> │       <span style=\"color: #008080; text-decoration-color: #008080; font-weight: bold\">-1.664443</span> │\n",
       "│    <span style=\"color: #008080; text-decoration-color: #008080; font-weight: bold\">17</span> │ <span style=\"color: #008000; text-decoration-color: #008000\">Charles de Gaulle </span> │ <span style=\"color: #008080; text-decoration-color: #008080; font-weight: bold\">48.105111</span> │ <span style=\"color: #008080; text-decoration-color: #008080; font-weight: bold\">-1.677119</span> │ <span style=\"color: #008000; text-decoration-color: #008000\">Champs Libres     </span> │      <span style=\"color: #008080; text-decoration-color: #008080; font-weight: bold\">48.105537</span> │       <span style=\"color: #008080; text-decoration-color: #008080; font-weight: bold\">-1.674328</span> │\n",
       "│    <span style=\"color: #008080; text-decoration-color: #008080; font-weight: bold\">20</span> │ <span style=\"color: #008000; text-decoration-color: #008000\">Pont de Nantes    </span> │ <span style=\"color: #008080; text-decoration-color: #008080; font-weight: bold\">48.102015</span> │ <span style=\"color: #008080; text-decoration-color: #008080; font-weight: bold\">-1.684015</span> │ <span style=\"color: #008000; text-decoration-color: #008000\">Cité Judiciaire   </span> │      <span style=\"color: #008080; text-decoration-color: #008080; font-weight: bold\">48.104771</span> │       <span style=\"color: #008080; text-decoration-color: #008080; font-weight: bold\">-1.684110</span> │\n",
       "│    <span style=\"color: #008080; text-decoration-color: #008080; font-weight: bold\">22</span> │ <span style=\"color: #008000; text-decoration-color: #008000\">Oberthur          </span> │ <span style=\"color: #008080; text-decoration-color: #008080; font-weight: bold\">48.113550</span> │ <span style=\"color: #008080; text-decoration-color: #008080; font-weight: bold\">-1.661858</span> │ <span style=\"color: #008000; text-decoration-color: #008000\">Metz - Sévigné    </span> │      <span style=\"color: #008080; text-decoration-color: #008080; font-weight: bold\">48.115993</span> │       <span style=\"color: #008080; text-decoration-color: #008080; font-weight: bold\">-1.658258</span> │\n",
       "│    <span style=\"color: #008080; text-decoration-color: #008080; font-weight: bold\">25</span> │ <span style=\"color: #008000; text-decoration-color: #008000\">Office de Tourisme</span> │ <span style=\"color: #008080; text-decoration-color: #008080; font-weight: bold\">48.110294</span> │ <span style=\"color: #008080; text-decoration-color: #008080; font-weight: bold\">-1.683106</span> │ <span style=\"color: #008000; text-decoration-color: #008000\">Place de Bretagne </span> │      <span style=\"color: #008080; text-decoration-color: #008080; font-weight: bold\">48.109621</span> │       <span style=\"color: #008080; text-decoration-color: #008080; font-weight: bold\">-1.684019</span> │\n",
       "│     <span style=\"color: #7f7f7f; text-decoration-color: #7f7f7f\">…</span> │ <span style=\"color: #7f7f7f; text-decoration-color: #7f7f7f\">…</span>                  │         <span style=\"color: #7f7f7f; text-decoration-color: #7f7f7f\">…</span> │         <span style=\"color: #7f7f7f; text-decoration-color: #7f7f7f\">…</span> │ <span style=\"color: #7f7f7f; text-decoration-color: #7f7f7f\">…</span>                  │              <span style=\"color: #7f7f7f; text-decoration-color: #7f7f7f\">…</span> │               <span style=\"color: #7f7f7f; text-decoration-color: #7f7f7f\">…</span> │\n",
       "└───────┴────────────────────┴───────────┴───────────┴────────────────────┴────────────────┴─────────────────┘\n",
       "</pre>\n"
      ],
      "text/plain": [
       "┏━━━━━━━┳━━━━━━━━━━━━━━━━━━━━┳━━━━━━━━━━━┳━━━━━━━━━━━┳━━━━━━━━━━━━━━━━━━━━┳━━━━━━━━━━━━━━━━┳━━━━━━━━━━━━━━━━━┓\n",
       "┃\u001b[1m \u001b[0m\u001b[1mid\u001b[0m\u001b[1m   \u001b[0m\u001b[1m \u001b[0m┃\u001b[1m \u001b[0m\u001b[1mnom\u001b[0m\u001b[1m               \u001b[0m\u001b[1m \u001b[0m┃\u001b[1m \u001b[0m\u001b[1mlatitude\u001b[0m\u001b[1m \u001b[0m\u001b[1m \u001b[0m┃\u001b[1m \u001b[0m\u001b[1mlongitude\u001b[0m\u001b[1m \u001b[0m┃\u001b[1m \u001b[0m\u001b[1mnom_right\u001b[0m\u001b[1m         \u001b[0m\u001b[1m \u001b[0m┃\u001b[1m \u001b[0m\u001b[1mlatitude_right\u001b[0m\u001b[1m \u001b[0m┃\u001b[1m \u001b[0m\u001b[1mlongitude_right\u001b[0m\u001b[1m \u001b[0m┃\n",
       "┡━━━━━━━╇━━━━━━━━━━━━━━━━━━━━╇━━━━━━━━━━━╇━━━━━━━━━━━╇━━━━━━━━━━━━━━━━━━━━╇━━━━━━━━━━━━━━━━╇━━━━━━━━━━━━━━━━━┩\n",
       "│ \u001b[2mint64\u001b[0m │ \u001b[2mstring\u001b[0m             │ \u001b[2mfloat64\u001b[0m   │ \u001b[2mfloat64\u001b[0m   │ \u001b[2mstring\u001b[0m             │ \u001b[2mfloat64\u001b[0m        │ \u001b[2mfloat64\u001b[0m         │\n",
       "├───────┼────────────────────┼───────────┼───────────┼────────────────────┼────────────────┼─────────────────┤\n",
       "│     \u001b[1;36m1\u001b[0m │ \u001b[32mRépublique        \u001b[0m │ \u001b[1;36m48.110026\u001b[0m │ \u001b[1;36m-1.678037\u001b[0m │ \u001b[32mMairie            \u001b[0m │      \u001b[1;36m48.111624\u001b[0m │       \u001b[1;36m-1.678757\u001b[0m │\n",
       "│     \u001b[1;36m2\u001b[0m │ \u001b[32mMairie            \u001b[0m │ \u001b[1;36m48.111624\u001b[0m │ \u001b[1;36m-1.678757\u001b[0m │ \u001b[32mRépublique        \u001b[0m │      \u001b[1;36m48.110026\u001b[0m │       \u001b[1;36m-1.678037\u001b[0m │\n",
       "│     \u001b[1;36m3\u001b[0m │ \u001b[32mChamp Jacquet     \u001b[0m │ \u001b[1;36m48.112764\u001b[0m │ \u001b[1;36m-1.680062\u001b[0m │ \u001b[32mMairie            \u001b[0m │      \u001b[1;36m48.111624\u001b[0m │       \u001b[1;36m-1.678757\u001b[0m │\n",
       "│    \u001b[1;36m10\u001b[0m │ \u001b[32mMusée Beaux-Arts  \u001b[0m │ \u001b[1;36m48.109601\u001b[0m │ \u001b[1;36m-1.674080\u001b[0m │ \u001b[32mTNB               \u001b[0m │      \u001b[1;36m48.107748\u001b[0m │       \u001b[1;36m-1.673711\u001b[0m │\n",
       "│    \u001b[1;36m12\u001b[0m │ \u001b[32mTNB               \u001b[0m │ \u001b[1;36m48.107748\u001b[0m │ \u001b[1;36m-1.673711\u001b[0m │ \u001b[32mMusée Beaux-Arts  \u001b[0m │      \u001b[1;36m48.109601\u001b[0m │       \u001b[1;36m-1.674080\u001b[0m │\n",
       "│    \u001b[1;36m14\u001b[0m │ \u001b[32mLaënnec           \u001b[0m │ \u001b[1;36m48.106847\u001b[0m │ \u001b[1;36m-1.665817\u001b[0m │ \u001b[32mPont de Châteaudun\u001b[0m │      \u001b[1;36m48.110264\u001b[0m │       \u001b[1;36m-1.664443\u001b[0m │\n",
       "│    \u001b[1;36m17\u001b[0m │ \u001b[32mCharles de Gaulle \u001b[0m │ \u001b[1;36m48.105111\u001b[0m │ \u001b[1;36m-1.677119\u001b[0m │ \u001b[32mChamps Libres     \u001b[0m │      \u001b[1;36m48.105537\u001b[0m │       \u001b[1;36m-1.674328\u001b[0m │\n",
       "│    \u001b[1;36m20\u001b[0m │ \u001b[32mPont de Nantes    \u001b[0m │ \u001b[1;36m48.102015\u001b[0m │ \u001b[1;36m-1.684015\u001b[0m │ \u001b[32mCité Judiciaire   \u001b[0m │      \u001b[1;36m48.104771\u001b[0m │       \u001b[1;36m-1.684110\u001b[0m │\n",
       "│    \u001b[1;36m22\u001b[0m │ \u001b[32mOberthur          \u001b[0m │ \u001b[1;36m48.113550\u001b[0m │ \u001b[1;36m-1.661858\u001b[0m │ \u001b[32mMetz - Sévigné    \u001b[0m │      \u001b[1;36m48.115993\u001b[0m │       \u001b[1;36m-1.658258\u001b[0m │\n",
       "│    \u001b[1;36m25\u001b[0m │ \u001b[32mOffice de Tourisme\u001b[0m │ \u001b[1;36m48.110294\u001b[0m │ \u001b[1;36m-1.683106\u001b[0m │ \u001b[32mPlace de Bretagne \u001b[0m │      \u001b[1;36m48.109621\u001b[0m │       \u001b[1;36m-1.684019\u001b[0m │\n",
       "│     \u001b[2m…\u001b[0m │ \u001b[2m…\u001b[0m                  │         \u001b[2m…\u001b[0m │         \u001b[2m…\u001b[0m │ \u001b[2m…\u001b[0m                  │              \u001b[2m…\u001b[0m │               \u001b[2m…\u001b[0m │\n",
       "└───────┴────────────────────┴───────────┴───────────┴────────────────────┴────────────────┴─────────────────┘"
      ]
     },
     "execution_count": 58,
     "metadata": {},
     "output_type": "execute_result"
    }
   ],
   "source": [
    "from ibis import _\n",
    "\n",
    "(\n",
    "    topologie_ibis\n",
    "    .left_join(topologie[[\"id\", \"nom\", \"latitude\", \"longitude\"]], topologie_ibis.id_proche_1 == topologie[[\"id\", \"nom\", \"latitude\", \"longitude\"]].id)\n",
    "    .select([\"id\", \"nom\", \"latitude\", \"longitude\", \"nom_right\", \"latitude_right\", \"longitude_right\" ])\n",
    ")"
   ]
  },
  {
   "cell_type": "markdown",
   "metadata": {},
   "source": [
    "8. (*Bonus*) Écrire des requêtes SQL pour obtenir les résultats demandés dans les questions 3 à 6. La fonction `to_sql` pourra être utilisée pour de l'aide."
   ]
  },
  {
   "cell_type": "code",
   "execution_count": null,
   "metadata": {},
   "outputs": [],
   "source": []
  },
  {
   "cell_type": "markdown",
   "metadata": {},
   "source": [
    "## Musique"
   ]
  },
  {
   "cell_type": "markdown",
   "metadata": {},
   "source": [
    "Le dépôt GitHub [lerocha/chinook-database](https://github.com/lerocha/chinook-database) met à disposition des bases de données de bibliothèques musicales. Une copie de la base SQLite est disponible dans le fichier `chinook.db`."
   ]
  },
  {
   "cell_type": "markdown",
   "metadata": {},
   "source": [
    "1. Utiliser le module `ibis` pour vous connecter à la base de données et explorer les tables formant le jeu de données pour le découvrir. En particulier, remarquer comment les tables `Playlist`, `PlaylistTrack` et `Track` sont liées entre elles."
   ]
  },
  {
   "cell_type": "code",
   "execution_count": 1,
   "metadata": {},
   "outputs": [],
   "source": [
    "import sqlite3\n",
    "\n",
    "import pandas as pd\n",
    "import ibis\n",
    "\n",
    "from ibis import _\n",
    "\n",
    "ibis.options.interactive = True"
   ]
  },
  {
   "cell_type": "code",
   "execution_count": 2,
   "metadata": {},
   "outputs": [
    {
     "data": {
      "text/plain": [
       "['Album',\n",
       " 'Artist',\n",
       " 'Customer',\n",
       " 'Employee',\n",
       " 'Genre',\n",
       " 'Invoice',\n",
       " 'InvoiceLine',\n",
       " 'MediaType',\n",
       " 'Playlist',\n",
       " 'PlaylistTrack',\n",
       " 'Track']"
      ]
     },
     "execution_count": 2,
     "metadata": {},
     "output_type": "execute_result"
    }
   ],
   "source": [
    "con = ibis.sqlite.connect(\"data\\\\chinook.db\")\n",
    "con.list_tables()"
   ]
  },
  {
   "cell_type": "code",
   "execution_count": 3,
   "metadata": {},
   "outputs": [
    {
     "data": {
      "text/plain": [
       "('PlaylistId', 'Name')"
      ]
     },
     "execution_count": 3,
     "metadata": {},
     "output_type": "execute_result"
    }
   ],
   "source": [
    "playlist = con.table(\"Playlist\")\n",
    "playlist.columns"
   ]
  },
  {
   "cell_type": "code",
   "execution_count": 4,
   "metadata": {},
   "outputs": [
    {
     "data": {
      "text/plain": [
       "('PlaylistId', 'TrackId')"
      ]
     },
     "execution_count": 4,
     "metadata": {},
     "output_type": "execute_result"
    }
   ],
   "source": [
    "playlist_track = con.table(\"PlaylistTrack\")\n",
    "playlist_track.columns"
   ]
  },
  {
   "cell_type": "code",
   "execution_count": 5,
   "metadata": {},
   "outputs": [
    {
     "data": {
      "text/plain": [
       "('TrackId',\n",
       " 'Name',\n",
       " 'AlbumId',\n",
       " 'MediaTypeId',\n",
       " 'GenreId',\n",
       " 'Composer',\n",
       " 'Milliseconds',\n",
       " 'Bytes',\n",
       " 'UnitPrice')"
      ]
     },
     "execution_count": 5,
     "metadata": {},
     "output_type": "execute_result"
    }
   ],
   "source": [
    "track = con.table(\"Track\")\n",
    "track.columns"
   ]
  },
  {
   "cell_type": "markdown",
   "metadata": {},
   "source": [
    "2. Quelles sont les playlists qui contiennent le plus de pistes ?"
   ]
  },
  {
   "cell_type": "code",
   "execution_count": 6,
   "metadata": {},
   "outputs": [
    {
     "data": {
      "text/html": [
       "<pre style=\"white-space:pre;overflow-x:auto;line-height:normal;font-family:Menlo,'DejaVu Sans Mono',consolas,'Courier New',monospace\">┏━━━━━━━━━━━━━━━━━━━━━━━━━━━━┳━━━━━━━━━━┓\n",
       "┃<span style=\"font-weight: bold\"> Name                       </span>┃<span style=\"font-weight: bold\"> n_tracks </span>┃\n",
       "┡━━━━━━━━━━━━━━━━━━━━━━━━━━━━╇━━━━━━━━━━┩\n",
       "│ <span style=\"color: #7f7f7f; text-decoration-color: #7f7f7f\">string(120)</span>                │ <span style=\"color: #7f7f7f; text-decoration-color: #7f7f7f\">int64</span>    │\n",
       "├────────────────────────────┼──────────┤\n",
       "│ <span style=\"color: #008000; text-decoration-color: #008000\">Music                     </span> │     <span style=\"color: #008080; text-decoration-color: #008080; font-weight: bold\">3290</span> │\n",
       "│ <span style=\"color: #008000; text-decoration-color: #008000\">TV Shows                  </span> │      <span style=\"color: #008080; text-decoration-color: #008080; font-weight: bold\">213</span> │\n",
       "│ <span style=\"color: #008000; text-decoration-color: #008000\">90’s Music                </span> │     <span style=\"color: #008080; text-decoration-color: #008080; font-weight: bold\">1477</span> │\n",
       "│ <span style=\"color: #008000; text-decoration-color: #008000\">Music                     </span> │     <span style=\"color: #008080; text-decoration-color: #008080; font-weight: bold\">3290</span> │\n",
       "│ <span style=\"color: #008000; text-decoration-color: #008000\">Music Videos              </span> │        <span style=\"color: #008080; text-decoration-color: #008080; font-weight: bold\">1</span> │\n",
       "│ <span style=\"color: #008000; text-decoration-color: #008000\">TV Shows                  </span> │      <span style=\"color: #008080; text-decoration-color: #008080; font-weight: bold\">213</span> │\n",
       "│ <span style=\"color: #008000; text-decoration-color: #008000\">Brazilian Music           </span> │       <span style=\"color: #008080; text-decoration-color: #008080; font-weight: bold\">39</span> │\n",
       "│ <span style=\"color: #008000; text-decoration-color: #008000\">Classical                 </span> │       <span style=\"color: #008080; text-decoration-color: #008080; font-weight: bold\">75</span> │\n",
       "│ <span style=\"color: #008000; text-decoration-color: #008000\">Classical 101 - Deep Cuts </span> │       <span style=\"color: #008080; text-decoration-color: #008080; font-weight: bold\">25</span> │\n",
       "│ <span style=\"color: #008000; text-decoration-color: #008000\">Classical 101 - Next Steps</span> │       <span style=\"color: #008080; text-decoration-color: #008080; font-weight: bold\">25</span> │\n",
       "│ <span style=\"color: #7f7f7f; text-decoration-color: #7f7f7f\">…</span>                          │        <span style=\"color: #7f7f7f; text-decoration-color: #7f7f7f\">…</span> │\n",
       "└────────────────────────────┴──────────┘\n",
       "</pre>\n"
      ],
      "text/plain": [
       "┏━━━━━━━━━━━━━━━━━━━━━━━━━━━━┳━━━━━━━━━━┓\n",
       "┃\u001b[1m \u001b[0m\u001b[1mName\u001b[0m\u001b[1m                      \u001b[0m\u001b[1m \u001b[0m┃\u001b[1m \u001b[0m\u001b[1mn_tracks\u001b[0m\u001b[1m \u001b[0m┃\n",
       "┡━━━━━━━━━━━━━━━━━━━━━━━━━━━━╇━━━━━━━━━━┩\n",
       "│ \u001b[2mstring(120)\u001b[0m                │ \u001b[2mint64\u001b[0m    │\n",
       "├────────────────────────────┼──────────┤\n",
       "│ \u001b[32mMusic                     \u001b[0m │     \u001b[1;36m3290\u001b[0m │\n",
       "│ \u001b[32mTV Shows                  \u001b[0m │      \u001b[1;36m213\u001b[0m │\n",
       "│ \u001b[32m90’s Music                \u001b[0m │     \u001b[1;36m1477\u001b[0m │\n",
       "│ \u001b[32mMusic                     \u001b[0m │     \u001b[1;36m3290\u001b[0m │\n",
       "│ \u001b[32mMusic Videos              \u001b[0m │        \u001b[1;36m1\u001b[0m │\n",
       "│ \u001b[32mTV Shows                  \u001b[0m │      \u001b[1;36m213\u001b[0m │\n",
       "│ \u001b[32mBrazilian Music           \u001b[0m │       \u001b[1;36m39\u001b[0m │\n",
       "│ \u001b[32mClassical                 \u001b[0m │       \u001b[1;36m75\u001b[0m │\n",
       "│ \u001b[32mClassical 101 - Deep Cuts \u001b[0m │       \u001b[1;36m25\u001b[0m │\n",
       "│ \u001b[32mClassical 101 - Next Steps\u001b[0m │       \u001b[1;36m25\u001b[0m │\n",
       "│ \u001b[2m…\u001b[0m                          │        \u001b[2m…\u001b[0m │\n",
       "└────────────────────────────┴──────────┘"
      ]
     },
     "execution_count": 6,
     "metadata": {},
     "output_type": "execute_result"
    }
   ],
   "source": [
    "(\n",
    "    playlist_track\n",
    "    .group_by(\"PlaylistId\")\n",
    "    .aggregate(n_tracks = playlist_track.TrackId.count())\n",
    "    .left_join(playlist, \"PlaylistId\")\n",
    "    .select([\"Name\", \"n_tracks\"])\n",
    ")"
   ]
  },
  {
   "cell_type": "markdown",
   "metadata": {},
   "source": [
    "3. Construire une table contenant les informations suivantes sur la playlist `Classical` : le titre de chaque piste ainsi que le titre de l'album dont cette piste est tirée."
   ]
  },
  {
   "cell_type": "code",
   "execution_count": 8,
   "metadata": {},
   "outputs": [
    {
     "data": {
      "text/html": [
       "<pre style=\"white-space:pre;overflow-x:auto;line-height:normal;font-family:Menlo,'DejaVu Sans Mono',consolas,'Courier New',monospace\">┏━━━━━━━━━━━━━━━━━━━━━━━━━━━━━━━━━━━━━━━━━━━━━━━━━━━━━━━━━━━━━━━━━━━━━━┳━━━━━━━━━━━━━━━━━━━━━━━━━━━━━━━━━━━━━━━━━━━━━━━━━━━━━━━━━━━┓\n",
       "┃<span style=\"font-weight: bold\"> Name                                                                 </span>┃<span style=\"font-weight: bold\"> Title                                                     </span>┃\n",
       "┡━━━━━━━━━━━━━━━━━━━━━━━━━━━━━━━━━━━━━━━━━━━━━━━━━━━━━━━━━━━━━━━━━━━━━━╇━━━━━━━━━━━━━━━━━━━━━━━━━━━━━━━━━━━━━━━━━━━━━━━━━━━━━━━━━━━┩\n",
       "│ <span style=\"color: #7f7f7f; text-decoration-color: #7f7f7f\">string(200)</span>                                                          │ <span style=\"color: #7f7f7f; text-decoration-color: #7f7f7f\">string(160)</span>                                               │\n",
       "├──────────────────────────────────────────────────────────────────────┼───────────────────────────────────────────────────────────┤\n",
       "│ <span style=\"color: #008000; text-decoration-color: #008000\">Intoitus: Adorate Deum                                              </span> │ <span style=\"color: #008000; text-decoration-color: #008000\">Adorate Deum: Gregorian Chant from the Proper of the Mass</span> │\n",
       "│ <span style=\"color: #008000; text-decoration-color: #008000\">Miserere mei, Deus                                                  </span> │ <span style=\"color: #008000; text-decoration-color: #008000\">Allegri: Miserere                                        </span> │\n",
       "│ <span style=\"color: #008000; text-decoration-color: #008000\">Canon and Gigue in D Major: I. Canon                                </span> │ <span style=\"color: #008000; text-decoration-color: #008000\">Pachelbel: Canon &amp; Gigue                                 </span> │\n",
       "│ <span style=\"color: #008000; text-decoration-color: #008000\">Concerto No. 1 in E Major, RV 269 \"Spring\": I. Allegro              </span> │ <span style=\"color: #008000; text-decoration-color: #008000\">Vivaldi: The Four Seasons                                </span> │\n",
       "│ <span style=\"color: #008000; text-decoration-color: #008000\">Concerto for 2 Violins in D Minor, BWV 1043: I. Vivace              </span> │ <span style=\"color: #008000; text-decoration-color: #008000\">Bach: Violin Concertos                                   </span> │\n",
       "│ <span style=\"color: #008000; text-decoration-color: #008000\">Aria Mit 30 Veränderungen, BWV 988 \"Goldberg Variations\": Aria      </span> │ <span style=\"color: #008000; text-decoration-color: #008000\">Bach: Goldberg Variations                                </span> │\n",
       "│ <span style=\"color: #008000; text-decoration-color: #008000\">Suite for Solo Cello No. 1 in G Major, BWV 1007: I. Prélude         </span> │ <span style=\"color: #008000; text-decoration-color: #008000\">Bach: The Cello Suites                                   </span> │\n",
       "│ <span style=\"color: #008000; text-decoration-color: #008000\">The Messiah: Behold, I Tell You a Mystery... The Trumpet Shall Sound</span> │ <span style=\"color: #008000; text-decoration-color: #008000\">Handel: The Messiah (Highlights)                         </span> │\n",
       "│ <span style=\"color: #008000; text-decoration-color: #008000\">Solomon HWV 67: The Arrival of the Queen of Sheba                   </span> │ <span style=\"color: #008000; text-decoration-color: #008000\">The World of Classical Favourites                        </span> │\n",
       "│ <span style=\"color: #008000; text-decoration-color: #008000\">\"Eine Kleine Nachtmusik\" Serenade In G, K. 525: I. Allegro          </span> │ <span style=\"color: #008000; text-decoration-color: #008000\">Sir Neville Marriner: A Celebration                      </span> │\n",
       "│ <span style=\"color: #7f7f7f; text-decoration-color: #7f7f7f\">…</span>                                                                    │ <span style=\"color: #7f7f7f; text-decoration-color: #7f7f7f\">…</span>                                                         │\n",
       "└──────────────────────────────────────────────────────────────────────┴───────────────────────────────────────────────────────────┘\n",
       "</pre>\n"
      ],
      "text/plain": [
       "┏━━━━━━━━━━━━━━━━━━━━━━━━━━━━━━━━━━━━━━━━━━━━━━━━━━━━━━━━━━━━━━━━━━━━━━┳━━━━━━━━━━━━━━━━━━━━━━━━━━━━━━━━━━━━━━━━━━━━━━━━━━━━━━━━━━━┓\n",
       "┃\u001b[1m \u001b[0m\u001b[1mName\u001b[0m\u001b[1m                                                                \u001b[0m\u001b[1m \u001b[0m┃\u001b[1m \u001b[0m\u001b[1mTitle\u001b[0m\u001b[1m                                                    \u001b[0m\u001b[1m \u001b[0m┃\n",
       "┡━━━━━━━━━━━━━━━━━━━━━━━━━━━━━━━━━━━━━━━━━━━━━━━━━━━━━━━━━━━━━━━━━━━━━━╇━━━━━━━━━━━━━━━━━━━━━━━━━━━━━━━━━━━━━━━━━━━━━━━━━━━━━━━━━━━┩\n",
       "│ \u001b[2mstring(200)\u001b[0m                                                          │ \u001b[2mstring(160)\u001b[0m                                               │\n",
       "├──────────────────────────────────────────────────────────────────────┼───────────────────────────────────────────────────────────┤\n",
       "│ \u001b[32mIntoitus: Adorate Deum                                              \u001b[0m │ \u001b[32mAdorate Deum: Gregorian Chant from the Proper of the Mass\u001b[0m │\n",
       "│ \u001b[32mMiserere mei, Deus                                                  \u001b[0m │ \u001b[32mAllegri: Miserere                                        \u001b[0m │\n",
       "│ \u001b[32mCanon and Gigue in D Major: I. Canon                                \u001b[0m │ \u001b[32mPachelbel: Canon & Gigue                                 \u001b[0m │\n",
       "│ \u001b[32mConcerto No. 1 in E Major, RV 269 \"Spring\": I. Allegro              \u001b[0m │ \u001b[32mVivaldi: The Four Seasons                                \u001b[0m │\n",
       "│ \u001b[32mConcerto for 2 Violins in D Minor, BWV 1043: I. Vivace              \u001b[0m │ \u001b[32mBach: Violin Concertos                                   \u001b[0m │\n",
       "│ \u001b[32mAria Mit 30 Veränderungen, BWV 988 \"Goldberg Variations\": Aria      \u001b[0m │ \u001b[32mBach: Goldberg Variations                                \u001b[0m │\n",
       "│ \u001b[32mSuite for Solo Cello No. 1 in G Major, BWV 1007: I. Prélude         \u001b[0m │ \u001b[32mBach: The Cello Suites                                   \u001b[0m │\n",
       "│ \u001b[32mThe Messiah: Behold, I Tell You a Mystery... The Trumpet Shall Sound\u001b[0m │ \u001b[32mHandel: The Messiah (Highlights)                         \u001b[0m │\n",
       "│ \u001b[32mSolomon HWV 67: The Arrival of the Queen of Sheba                   \u001b[0m │ \u001b[32mThe World of Classical Favourites                        \u001b[0m │\n",
       "│ \u001b[32m\"Eine Kleine Nachtmusik\" Serenade In G, K. 525: I. Allegro          \u001b[0m │ \u001b[32mSir Neville Marriner: A Celebration                      \u001b[0m │\n",
       "│ \u001b[2m…\u001b[0m                                                                    │ \u001b[2m…\u001b[0m                                                         │\n",
       "└──────────────────────────────────────────────────────────────────────┴───────────────────────────────────────────────────────────┘"
      ]
     },
     "execution_count": 8,
     "metadata": {},
     "output_type": "execute_result"
    }
   ],
   "source": [
    "album = con.table(\"Album\")\n",
    "\n",
    "(\n",
    "    playlist_track\n",
    "    .left_join(playlist, playlist_track.PlaylistId == playlist.PlaylistId)\n",
    "    .rename(PlaylistName=\"Name\")\n",
    "    .filter(_.PlaylistName == \"Classical\")\n",
    "    .left_join(track, _.TrackId == track.TrackId)\n",
    "    .left_join(album, _.AlbumId == album.AlbumId)\n",
    "    .select(\"Name\", \"Title\")\n",
    ")"
   ]
  },
  {
   "cell_type": "markdown",
   "metadata": {},
   "source": [
    "4. (*Bonus*) Écrire une requête SQL donnant le résultat de la question précédente. La fonction `to_sql` pourra être utilisée pour de l'aide."
   ]
  },
  {
   "cell_type": "code",
   "execution_count": null,
   "metadata": {},
   "outputs": [],
   "source": []
  }
 ],
 "metadata": {
  "kernelspec": {
   "display_name": "Python 3 (ipykernel)",
   "language": "python",
   "name": "python3"
  },
  "language_info": {
   "codemirror_mode": {
    "name": "ipython",
    "version": 3
   },
   "file_extension": ".py",
   "mimetype": "text/x-python",
   "name": "python",
   "nbconvert_exporter": "python",
   "pygments_lexer": "ipython3",
   "version": "3.11.3"
  }
 },
 "nbformat": 4,
 "nbformat_minor": 2
}
