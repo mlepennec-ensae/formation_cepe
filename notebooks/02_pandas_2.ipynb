{
 "cells": [
  {
   "cell_type": "markdown",
   "metadata": {},
   "source": [
    "# Notebook 2 : Pandas avancé"
   ]
  },
  {
   "cell_type": "code",
   "execution_count": 1,
   "metadata": {},
   "outputs": [],
   "source": [
    "import pandas as pd"
   ]
  },
  {
   "cell_type": "markdown",
   "metadata": {},
   "source": [
    "## Tennis"
   ]
  },
  {
   "cell_type": "markdown",
   "metadata": {},
   "source": [
    "Nous considérons les données des résultats des matchs de tennis masculin des tournois de Roland Garros et Wimbledon en 2013. La liste des variables et leur signification se trouvent sur [cette page](https://archive.ics.uci.edu/dataset/300/tennis+major+tournament+match+statistics) dans la section *Additional Variable Information*."
   ]
  },
  {
   "cell_type": "markdown",
   "metadata": {},
   "source": [
    "1. Commencer par charger le jeu de données relatif au tournoi de Roland Garros dans un dataframe `rg` à partir du fichier `rolandgarros2013.csv`."
   ]
  },
  {
   "cell_type": "code",
   "execution_count": 3,
   "metadata": {},
   "outputs": [
    {
     "name": "stdout",
     "output_type": "stream",
     "text": [
      "               Player1                  Player2  Round  Result  FNL.1  FNL.2  \\\n",
      "0  Pablo Carreno-Busta            Roger Federer      1       0      0      3   \n",
      "1     Somdev Devvarman  Daniel Munoz-De La Nava      1       1      3      0   \n",
      "2         Tobias Kamke            Paolo Lorenzi      1       1      3      2   \n",
      "3     Julien Benneteau        Ricardas Berankis      1       1      3      1   \n",
      "4          Lukas Lacko              Sam Querrey      1       0      0      3   \n",
      "\n",
      "   FSP.1  FSW.1  SSP.1  SSW.1  ...  BPC.2  BPW.2  NPA.2  NPW.2  TPW.2  ST1.2  \\\n",
      "0     62     27     38     11  ...      7      7     14     18     88      6   \n",
      "1     62     54     38     22  ...      1     16     22     25    106      3   \n",
      "2     62     53     38     15  ...     10     18     19     27    139      3   \n",
      "3     72     87     28     19  ...      4     13     33     43    149      6   \n",
      "4     52     31     48     22  ...      4      7     12     13     93      6   \n",
      "\n",
      "   ST2.2  ST3.2  ST4.2  ST5.2  \n",
      "0      6    6.0    NaN    NaN  \n",
      "1      3    5.0    NaN    NaN  \n",
      "2      3    6.0    6.0    3.0  \n",
      "3      3    7.0    6.0    NaN  \n",
      "4      6    6.0    NaN    NaN  \n",
      "\n",
      "[5 rows x 42 columns]\n"
     ]
    }
   ],
   "source": [
    "rg = pd.read_csv(\"/home/onyxia/work/formation_cepe/data/rolandgarros2013.csv\")\n",
    "print(rg.head())"
   ]
  },
  {
   "cell_type": "markdown",
   "metadata": {},
   "source": [
    "2. Afficher les noms des demi-finalistes."
   ]
  },
  {
   "cell_type": "code",
   "execution_count": 4,
   "metadata": {},
   "outputs": [
    {
     "data": {
      "text/html": [
       "<div>\n",
       "<style scoped>\n",
       "    .dataframe tbody tr th:only-of-type {\n",
       "        vertical-align: middle;\n",
       "    }\n",
       "\n",
       "    .dataframe tbody tr th {\n",
       "        vertical-align: top;\n",
       "    }\n",
       "\n",
       "    .dataframe thead th {\n",
       "        text-align: right;\n",
       "    }\n",
       "</style>\n",
       "<table border=\"1\" class=\"dataframe\">\n",
       "  <thead>\n",
       "    <tr style=\"text-align: right;\">\n",
       "      <th></th>\n",
       "      <th>Player1</th>\n",
       "      <th>Player2</th>\n",
       "      <th>Round</th>\n",
       "      <th>Result</th>\n",
       "      <th>FNL.1</th>\n",
       "      <th>FNL.2</th>\n",
       "      <th>FSP.1</th>\n",
       "      <th>FSW.1</th>\n",
       "      <th>SSP.1</th>\n",
       "      <th>SSW.1</th>\n",
       "      <th>...</th>\n",
       "      <th>BPC.2</th>\n",
       "      <th>BPW.2</th>\n",
       "      <th>NPA.2</th>\n",
       "      <th>NPW.2</th>\n",
       "      <th>TPW.2</th>\n",
       "      <th>ST1.2</th>\n",
       "      <th>ST2.2</th>\n",
       "      <th>ST3.2</th>\n",
       "      <th>ST4.2</th>\n",
       "      <th>ST5.2</th>\n",
       "    </tr>\n",
       "  </thead>\n",
       "  <tbody>\n",
       "    <tr>\n",
       "      <th>122</th>\n",
       "      <td>David Ferrer</td>\n",
       "      <td>Jo-Wilfried Tsonga</td>\n",
       "      <td>6</td>\n",
       "      <td>1</td>\n",
       "      <td>3</td>\n",
       "      <td>0</td>\n",
       "      <td>60</td>\n",
       "      <td>35</td>\n",
       "      <td>40</td>\n",
       "      <td>23</td>\n",
       "      <td>...</td>\n",
       "      <td>2</td>\n",
       "      <td>5</td>\n",
       "      <td>7</td>\n",
       "      <td>16</td>\n",
       "      <td>84</td>\n",
       "      <td>1</td>\n",
       "      <td>6</td>\n",
       "      <td>2.0</td>\n",
       "      <td>NaN</td>\n",
       "      <td>NaN</td>\n",
       "    </tr>\n",
       "    <tr>\n",
       "      <th>123</th>\n",
       "      <td>Novak Djokovic</td>\n",
       "      <td>Rafael Nadal</td>\n",
       "      <td>6</td>\n",
       "      <td>0</td>\n",
       "      <td>2</td>\n",
       "      <td>3</td>\n",
       "      <td>67</td>\n",
       "      <td>76</td>\n",
       "      <td>33</td>\n",
       "      <td>30</td>\n",
       "      <td>...</td>\n",
       "      <td>8</td>\n",
       "      <td>16</td>\n",
       "      <td>15</td>\n",
       "      <td>26</td>\n",
       "      <td>177</td>\n",
       "      <td>6</td>\n",
       "      <td>3</td>\n",
       "      <td>6.0</td>\n",
       "      <td>6.0</td>\n",
       "      <td>9.0</td>\n",
       "    </tr>\n",
       "  </tbody>\n",
       "</table>\n",
       "<p>2 rows × 42 columns</p>\n",
       "</div>"
      ],
      "text/plain": [
       "            Player1             Player2  Round  Result  FNL.1  FNL.2  FSP.1  \\\n",
       "122    David Ferrer  Jo-Wilfried Tsonga      6       1      3      0     60   \n",
       "123  Novak Djokovic        Rafael Nadal      6       0      2      3     67   \n",
       "\n",
       "     FSW.1  SSP.1  SSW.1  ...  BPC.2  BPW.2  NPA.2  NPW.2  TPW.2  ST1.2  \\\n",
       "122     35     40     23  ...      2      5      7     16     84      1   \n",
       "123     76     33     30  ...      8     16     15     26    177      6   \n",
       "\n",
       "     ST2.2  ST3.2  ST4.2  ST5.2  \n",
       "122      6    2.0    NaN    NaN  \n",
       "123      3    6.0    6.0    9.0  \n",
       "\n",
       "[2 rows x 42 columns]"
      ]
     },
     "execution_count": 4,
     "metadata": {},
     "output_type": "execute_result"
    }
   ],
   "source": [
    "rg[rg.Round==6]"
   ]
  },
  {
   "cell_type": "markdown",
   "metadata": {},
   "source": [
    "3. Calculer le nombre moyen d'aces par match dans le tournoi."
   ]
  },
  {
   "cell_type": "code",
   "execution_count": 14,
   "metadata": {},
   "outputs": [
    {
     "data": {
      "text/plain": [
       "np.float64(12.688)"
      ]
     },
     "execution_count": 14,
     "metadata": {},
     "output_type": "execute_result"
    }
   ],
   "source": [
    "rg[\"ACE_sum\"]=rg[\"ACE.1\"] + rg[\"ACE.2\"]\n",
    "rg[\"ACE_sum\"].mean()"
   ]
  },
  {
   "cell_type": "markdown",
   "metadata": {},
   "source": [
    "4. Combien y a-t-il eu d'aces par match en moyenne à chaque niveau du tournoi ?"
   ]
  },
  {
   "cell_type": "code",
   "execution_count": 15,
   "metadata": {},
   "outputs": [
    {
     "name": "stdout",
     "output_type": "stream",
     "text": [
      "         nb_aces\n",
      "Round           \n",
      "1      13.476190\n",
      "2      13.193548\n",
      "3      12.562500\n",
      "4       9.125000\n",
      "5       7.000000\n",
      "6      10.000000\n",
      "7       6.000000\n"
     ]
    }
   ],
   "source": [
    "print( # Remarquer la syntaxe de cet exemple\n",
    "rg\n",
    ".groupby(rg.Round)\n",
    ".agg( # NamedAgg permet de nommer les agrégations\n",
    "nb_aces=pd.NamedAgg(column=\"ACE_sum\", aggfunc=\"mean\")\n",
    ")\n",
    ")"
   ]
  },
  {
   "cell_type": "markdown",
   "metadata": {},
   "source": [
    "5. Filtrer les matchs pour lesquels au moins une des variables `DBF.1` et `DBF.2` est manquante."
   ]
  },
  {
   "cell_type": "code",
   "execution_count": null,
   "metadata": {},
   "outputs": [
    {
     "data": {
      "text/plain": [
       "0      False\n",
       "1      False\n",
       "2      False\n",
       "3      False\n",
       "4      False\n",
       "       ...  \n",
       "120    False\n",
       "121    False\n",
       "122    False\n",
       "123    False\n",
       "124    False\n",
       "Name: DBF.1, Length: 125, dtype: bool"
      ]
     },
     "execution_count": 17,
     "metadata": {},
     "output_type": "execute_result"
    }
   ],
   "source": [
    "rg[\"DBF.1\"].isna()"
   ]
  },
  {
   "cell_type": "markdown",
   "metadata": {},
   "source": [
    "6. Remplacer les valeurs manquantes de `DBF.1` par zéro avec la méthode `loc`."
   ]
  },
  {
   "cell_type": "code",
   "execution_count": null,
   "metadata": {},
   "outputs": [],
   "source": []
  },
  {
   "cell_type": "markdown",
   "metadata": {},
   "source": [
    "7. Remplacer les valeurs manquantes de `DBF.2` par zéro avec la méthode `fillna`."
   ]
  },
  {
   "cell_type": "code",
   "execution_count": null,
   "metadata": {},
   "outputs": [],
   "source": []
  },
  {
   "cell_type": "markdown",
   "metadata": {},
   "source": [
    "8. Extraire la liste des participants à partir des colonnes `Player1` et `Player2`. Une façon de faire consiste à utiliser `concat` et la méthode `drop_duplicates` pour obtenir le résultat sous la forme d'une série et de la convertir en dataframe avec la méthode `to_frame`."
   ]
  },
  {
   "cell_type": "code",
   "execution_count": null,
   "metadata": {},
   "outputs": [],
   "source": []
  },
  {
   "cell_type": "markdown",
   "metadata": {},
   "source": [
    "9. Écrire une fonction `n_match` qui prend une chaîne de caractères `joueur` en entrée et retourne le nombre de matchs disputés par le joueur."
   ]
  },
  {
   "cell_type": "code",
   "execution_count": null,
   "metadata": {},
   "outputs": [],
   "source": []
  },
  {
   "cell_type": "markdown",
   "metadata": {},
   "source": [
    "10. Utiliser les deux question précédentes et la méthode `apply` pour compter le nombre de matchs que chaque participant a disputé et ordonner le résultat par ordre décroissant."
   ]
  },
  {
   "cell_type": "code",
   "execution_count": null,
   "metadata": {},
   "outputs": [],
   "source": []
  },
  {
   "cell_type": "markdown",
   "metadata": {},
   "source": [
    "11. Charger maintenant le jeu de données relatif au tournoi de Wimbledon dans un dataframe `wb` à partir du fichier `wimbledon2013.csv`."
   ]
  },
  {
   "cell_type": "code",
   "execution_count": null,
   "metadata": {},
   "outputs": [],
   "source": []
  },
  {
   "cell_type": "markdown",
   "metadata": {},
   "source": [
    "12. Ajouter une colonne `Tournoi` dans les dataframes `rg` et `wb` contenant respectivement les chaînes de caractères `\"RG\"` et `\"WB\"`."
   ]
  },
  {
   "cell_type": "code",
   "execution_count": null,
   "metadata": {},
   "outputs": [],
   "source": []
  },
  {
   "cell_type": "markdown",
   "metadata": {},
   "source": [
    "13. Concaténer les deux dataframes dans un nouveau dataframe `tennis`."
   ]
  },
  {
   "cell_type": "code",
   "execution_count": null,
   "metadata": {},
   "outputs": [],
   "source": []
  },
  {
   "cell_type": "markdown",
   "metadata": {},
   "source": [
    "14. Utiliser le dataframe `tennis` pour comparer le nombre moyen d'aces par match à chaque niveau du tournoi à Roland Garros et à Wimbledon. Afficher le résultat en format large."
   ]
  },
  {
   "cell_type": "code",
   "execution_count": null,
   "metadata": {},
   "outputs": [],
   "source": []
  },
  {
   "cell_type": "markdown",
   "metadata": {},
   "source": [
    "15. Quelle différence y a-t-il dans le format des noms des joueurs entre les dataframes `rg` et `wb` ?"
   ]
  },
  {
   "cell_type": "code",
   "execution_count": null,
   "metadata": {},
   "outputs": [],
   "source": []
  },
  {
   "cell_type": "markdown",
   "metadata": {},
   "source": [
    "16. Construire un dataframe `rg_victoires` avec les trois colonnes suivantes pour le tournoi de Roland Garros :\n",
    "- `joueur` : nom du joueur tel qu'il est donné dans `rg`,\n",
    "- `nom_joueur` : nom de famille du joueur uniquement,\n",
    "- `n_victoire` : nombre de matchs gagnés dans le tournoi."
   ]
  },
  {
   "cell_type": "code",
   "execution_count": null,
   "metadata": {},
   "outputs": [],
   "source": []
  },
  {
   "cell_type": "markdown",
   "metadata": {},
   "source": [
    "17. Construire un dataframe `wb_victoires` avec les trois colonnes suivantes pour le tournoi de Wimbledon :\n",
    "- `joueur` : nom du joueur tel qu'il est donné dans `wb`,\n",
    "- `nom_joueur` : nom de famille du joueur uniquement,\n",
    "- `n_victoire` : nombre de matchs gagnés dans le tournoi."
   ]
  },
  {
   "cell_type": "code",
   "execution_count": null,
   "metadata": {},
   "outputs": [],
   "source": []
  },
  {
   "cell_type": "markdown",
   "metadata": {},
   "source": [
    "18. Faire une jointure entre `rg_victoires` et `wb_victoires` sur la colonne `nom_joueur` pour comparer le nombre de victoires par tournoi pour chaque joueur. Expliquer la différence de résultat selon que la jointure est à gauche, à droite, intérieure ou extérieure."
   ]
  },
  {
   "cell_type": "code",
   "execution_count": null,
   "metadata": {},
   "outputs": [],
   "source": []
  }
 ],
 "metadata": {
  "kernelspec": {
   "display_name": "base",
   "language": "python",
   "name": "python3"
  },
  "language_info": {
   "codemirror_mode": {
    "name": "ipython",
    "version": 3
   },
   "file_extension": ".py",
   "mimetype": "text/x-python",
   "name": "python",
   "nbconvert_exporter": "python",
   "pygments_lexer": "ipython3",
   "version": "3.12.9"
  }
 },
 "nbformat": 4,
 "nbformat_minor": 2
}
