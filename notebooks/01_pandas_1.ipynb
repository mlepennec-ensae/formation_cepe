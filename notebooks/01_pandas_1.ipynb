{
 "cells": [
  {
   "cell_type": "markdown",
   "metadata": {},
   "source": [
    "# Notebook 1 : Découverte de Pandas"
   ]
  },
  {
   "cell_type": "code",
   "execution_count": 1,
   "metadata": {},
   "outputs": [],
   "source": [
    "import pandas as pd"
   ]
  },
  {
   "cell_type": "markdown",
   "metadata": {},
   "source": [
    "## Iris"
   ]
  },
  {
   "cell_type": "markdown",
   "metadata": {},
   "source": [
    "Nous considérons le jeu de données connu sous le nom des [Iris de Fisher](https://fr.wikipedia.org/wiki/Iris_de_Fisher). Répondez aux questions suivantes à l'aide du module Pandas."
   ]
  },
  {
   "cell_type": "markdown",
   "metadata": {},
   "source": [
    "1. Charger le jeu de données dans un dataframe `iris` à partir du fichier `iris.csv` et afficher le dataframe."
   ]
  },
  {
   "cell_type": "code",
   "execution_count": 3,
   "metadata": {},
   "outputs": [],
   "source": [
    "iris = pd.read_csv('/home/onyxia/work/formation_cepe/data/iris.csv')"
   ]
  },
  {
   "cell_type": "markdown",
   "metadata": {},
   "source": [
    "2. Sélectionner les variables `PetalWidth` et `Species`."
   ]
  },
  {
   "cell_type": "code",
   "execution_count": 4,
   "metadata": {},
   "outputs": [
    {
     "data": {
      "text/html": [
       "<div>\n",
       "<style scoped>\n",
       "    .dataframe tbody tr th:only-of-type {\n",
       "        vertical-align: middle;\n",
       "    }\n",
       "\n",
       "    .dataframe tbody tr th {\n",
       "        vertical-align: top;\n",
       "    }\n",
       "\n",
       "    .dataframe thead th {\n",
       "        text-align: right;\n",
       "    }\n",
       "</style>\n",
       "<table border=\"1\" class=\"dataframe\">\n",
       "  <thead>\n",
       "    <tr style=\"text-align: right;\">\n",
       "      <th></th>\n",
       "      <th>PetalWidth</th>\n",
       "      <th>Species</th>\n",
       "    </tr>\n",
       "  </thead>\n",
       "  <tbody>\n",
       "    <tr>\n",
       "      <th>0</th>\n",
       "      <td>0.2</td>\n",
       "      <td>setosa</td>\n",
       "    </tr>\n",
       "    <tr>\n",
       "      <th>1</th>\n",
       "      <td>0.2</td>\n",
       "      <td>setosa</td>\n",
       "    </tr>\n",
       "    <tr>\n",
       "      <th>2</th>\n",
       "      <td>0.2</td>\n",
       "      <td>setosa</td>\n",
       "    </tr>\n",
       "    <tr>\n",
       "      <th>3</th>\n",
       "      <td>0.2</td>\n",
       "      <td>setosa</td>\n",
       "    </tr>\n",
       "    <tr>\n",
       "      <th>4</th>\n",
       "      <td>0.2</td>\n",
       "      <td>setosa</td>\n",
       "    </tr>\n",
       "    <tr>\n",
       "      <th>...</th>\n",
       "      <td>...</td>\n",
       "      <td>...</td>\n",
       "    </tr>\n",
       "    <tr>\n",
       "      <th>145</th>\n",
       "      <td>2.3</td>\n",
       "      <td>virginica</td>\n",
       "    </tr>\n",
       "    <tr>\n",
       "      <th>146</th>\n",
       "      <td>1.9</td>\n",
       "      <td>virginica</td>\n",
       "    </tr>\n",
       "    <tr>\n",
       "      <th>147</th>\n",
       "      <td>2.0</td>\n",
       "      <td>virginica</td>\n",
       "    </tr>\n",
       "    <tr>\n",
       "      <th>148</th>\n",
       "      <td>2.3</td>\n",
       "      <td>virginica</td>\n",
       "    </tr>\n",
       "    <tr>\n",
       "      <th>149</th>\n",
       "      <td>1.8</td>\n",
       "      <td>virginica</td>\n",
       "    </tr>\n",
       "  </tbody>\n",
       "</table>\n",
       "<p>150 rows × 2 columns</p>\n",
       "</div>"
      ],
      "text/plain": [
       "     PetalWidth    Species\n",
       "0           0.2     setosa\n",
       "1           0.2     setosa\n",
       "2           0.2     setosa\n",
       "3           0.2     setosa\n",
       "4           0.2     setosa\n",
       "..          ...        ...\n",
       "145         2.3  virginica\n",
       "146         1.9  virginica\n",
       "147         2.0  virginica\n",
       "148         2.3  virginica\n",
       "149         1.8  virginica\n",
       "\n",
       "[150 rows x 2 columns]"
      ]
     },
     "execution_count": 4,
     "metadata": {},
     "output_type": "execute_result"
    }
   ],
   "source": [
    "iris[[\"PetalWidth\", \"Species\"]]"
   ]
  },
  {
   "cell_type": "markdown",
   "metadata": {},
   "source": [
    "3. Extraire le sous-dataframe qui contient uniquement les iris des espèces `versicolor` ou `virginica`."
   ]
  },
  {
   "cell_type": "code",
   "execution_count": 8,
   "metadata": {},
   "outputs": [
    {
     "data": {
      "text/html": [
       "<div>\n",
       "<style scoped>\n",
       "    .dataframe tbody tr th:only-of-type {\n",
       "        vertical-align: middle;\n",
       "    }\n",
       "\n",
       "    .dataframe tbody tr th {\n",
       "        vertical-align: top;\n",
       "    }\n",
       "\n",
       "    .dataframe thead th {\n",
       "        text-align: right;\n",
       "    }\n",
       "</style>\n",
       "<table border=\"1\" class=\"dataframe\">\n",
       "  <thead>\n",
       "    <tr style=\"text-align: right;\">\n",
       "      <th></th>\n",
       "      <th>SepalLength</th>\n",
       "      <th>SepalWidth</th>\n",
       "      <th>PetalLength</th>\n",
       "      <th>PetalWidth</th>\n",
       "      <th>Species</th>\n",
       "    </tr>\n",
       "  </thead>\n",
       "  <tbody>\n",
       "    <tr>\n",
       "      <th>50</th>\n",
       "      <td>7.0</td>\n",
       "      <td>3.2</td>\n",
       "      <td>4.7</td>\n",
       "      <td>1.4</td>\n",
       "      <td>versicolor</td>\n",
       "    </tr>\n",
       "    <tr>\n",
       "      <th>51</th>\n",
       "      <td>6.4</td>\n",
       "      <td>3.2</td>\n",
       "      <td>4.5</td>\n",
       "      <td>1.5</td>\n",
       "      <td>versicolor</td>\n",
       "    </tr>\n",
       "    <tr>\n",
       "      <th>52</th>\n",
       "      <td>6.9</td>\n",
       "      <td>3.1</td>\n",
       "      <td>4.9</td>\n",
       "      <td>1.5</td>\n",
       "      <td>versicolor</td>\n",
       "    </tr>\n",
       "    <tr>\n",
       "      <th>53</th>\n",
       "      <td>5.5</td>\n",
       "      <td>2.3</td>\n",
       "      <td>4.0</td>\n",
       "      <td>1.3</td>\n",
       "      <td>versicolor</td>\n",
       "    </tr>\n",
       "    <tr>\n",
       "      <th>54</th>\n",
       "      <td>6.5</td>\n",
       "      <td>2.8</td>\n",
       "      <td>4.6</td>\n",
       "      <td>1.5</td>\n",
       "      <td>versicolor</td>\n",
       "    </tr>\n",
       "    <tr>\n",
       "      <th>...</th>\n",
       "      <td>...</td>\n",
       "      <td>...</td>\n",
       "      <td>...</td>\n",
       "      <td>...</td>\n",
       "      <td>...</td>\n",
       "    </tr>\n",
       "    <tr>\n",
       "      <th>145</th>\n",
       "      <td>6.7</td>\n",
       "      <td>3.0</td>\n",
       "      <td>5.2</td>\n",
       "      <td>2.3</td>\n",
       "      <td>virginica</td>\n",
       "    </tr>\n",
       "    <tr>\n",
       "      <th>146</th>\n",
       "      <td>6.3</td>\n",
       "      <td>2.5</td>\n",
       "      <td>5.0</td>\n",
       "      <td>1.9</td>\n",
       "      <td>virginica</td>\n",
       "    </tr>\n",
       "    <tr>\n",
       "      <th>147</th>\n",
       "      <td>6.5</td>\n",
       "      <td>3.0</td>\n",
       "      <td>5.2</td>\n",
       "      <td>2.0</td>\n",
       "      <td>virginica</td>\n",
       "    </tr>\n",
       "    <tr>\n",
       "      <th>148</th>\n",
       "      <td>6.2</td>\n",
       "      <td>3.4</td>\n",
       "      <td>5.4</td>\n",
       "      <td>2.3</td>\n",
       "      <td>virginica</td>\n",
       "    </tr>\n",
       "    <tr>\n",
       "      <th>149</th>\n",
       "      <td>5.9</td>\n",
       "      <td>3.0</td>\n",
       "      <td>5.1</td>\n",
       "      <td>1.8</td>\n",
       "      <td>virginica</td>\n",
       "    </tr>\n",
       "  </tbody>\n",
       "</table>\n",
       "<p>100 rows × 5 columns</p>\n",
       "</div>"
      ],
      "text/plain": [
       "     SepalLength  SepalWidth  PetalLength  PetalWidth     Species\n",
       "50           7.0         3.2          4.7         1.4  versicolor\n",
       "51           6.4         3.2          4.5         1.5  versicolor\n",
       "52           6.9         3.1          4.9         1.5  versicolor\n",
       "53           5.5         2.3          4.0         1.3  versicolor\n",
       "54           6.5         2.8          4.6         1.5  versicolor\n",
       "..           ...         ...          ...         ...         ...\n",
       "145          6.7         3.0          5.2         2.3   virginica\n",
       "146          6.3         2.5          5.0         1.9   virginica\n",
       "147          6.5         3.0          5.2         2.0   virginica\n",
       "148          6.2         3.4          5.4         2.3   virginica\n",
       "149          5.9         3.0          5.1         1.8   virginica\n",
       "\n",
       "[100 rows x 5 columns]"
      ]
     },
     "execution_count": 8,
     "metadata": {},
     "output_type": "execute_result"
    }
   ],
   "source": [
    "iris[(iris.Species == 'versicolor') | (iris.Species == 'virginica')]"
   ]
  },
  {
   "cell_type": "markdown",
   "metadata": {},
   "source": [
    "4. Compter le nombre d'iris de l'espèce `setosa`."
   ]
  },
  {
   "cell_type": "code",
   "execution_count": 47,
   "metadata": {},
   "outputs": [
    {
     "data": {
      "text/plain": [
       "np.int64(50)"
      ]
     },
     "execution_count": 47,
     "metadata": {},
     "output_type": "execute_result"
    }
   ],
   "source": [
    "iris[\"Species\"][iris.Species == 'setosa'].agg(\"count\")"
   ]
  },
  {
   "cell_type": "markdown",
   "metadata": {},
   "source": [
    "5. Calculer la moyenne de la variable `PetalWidth` pour les iris de l'espèce `versicolor`."
   ]
  },
  {
   "cell_type": "code",
   "execution_count": 17,
   "metadata": {},
   "outputs": [
    {
     "data": {
      "text/plain": [
       "np.float64(1.3259999999999998)"
      ]
     },
     "execution_count": 17,
     "metadata": {},
     "output_type": "execute_result"
    }
   ],
   "source": [
    "iris[\"PetalWidth\"][iris.Species == 'versicolor'].agg(\"mean\")"
   ]
  },
  {
   "cell_type": "markdown",
   "metadata": {},
   "source": [
    "6. Ajouter une variable `SumWidth` qui contient la somme des variables `PetalWidth` et `SepalWidth`."
   ]
  },
  {
   "cell_type": "code",
   "execution_count": 18,
   "metadata": {},
   "outputs": [
    {
     "name": "stdout",
     "output_type": "stream",
     "text": [
      "   SepalLength  SepalWidth  PetalLength  PetalWidth Species  SumWidth\n",
      "0          5.1         3.5          1.4         0.2  setosa       3.7\n",
      "1          4.9         3.0          1.4         0.2  setosa       3.2\n",
      "2          4.7         3.2          1.3         0.2  setosa       3.4\n",
      "3          4.6         3.1          1.5         0.2  setosa       3.3\n",
      "4          5.0         3.6          1.4         0.2  setosa       3.8\n"
     ]
    }
   ],
   "source": [
    "iris[\"SumWidth\"] = iris.PetalWidth + iris.SepalWidth\n",
    "print(iris.head())"
   ]
  },
  {
   "cell_type": "markdown",
   "metadata": {},
   "source": [
    "7. Calculer la moyenne et la variance de la variable `SepalLength` pour chaque espèce."
   ]
  },
  {
   "cell_type": "code",
   "execution_count": 20,
   "metadata": {},
   "outputs": [
    {
     "name": "stdout",
     "output_type": "stream",
     "text": [
      "            moyenne  variance\n",
      "Species                      \n",
      "virginica     6.588  0.635880\n",
      "versicolor    5.936  0.516171\n",
      "setosa        5.006  0.352490\n"
     ]
    }
   ],
   "source": [
    "print( # Remarquer la syntaxe de cet exemple\n",
    "iris\n",
    ".groupby(iris.Species)\n",
    ".agg( # NamedAgg permet de nommer les agrégations\n",
    "moyenne=pd.NamedAgg(column=\"SepalLength\", aggfunc=\"mean\"),\n",
    "variance=pd.NamedAgg(column=\"SepalLength\", aggfunc=\"std\")\n",
    ")\n",
    ".sort_values(by=\"moyenne\", ascending=False)\n",
    ")\n"
   ]
  },
  {
   "cell_type": "markdown",
   "metadata": {},
   "source": [
    "8. Calculer la moyenne de toutes les variables pour chaque espèce. Afficher le résultat au format large et au format long."
   ]
  },
  {
   "cell_type": "code",
   "execution_count": 84,
   "metadata": {},
   "outputs": [
    {
     "name": "stdout",
     "output_type": "stream",
     "text": [
      "      Species  SepalLength  SepalWidth  PetalLength  PetalWidth  SumWidth\n",
      "0      setosa        5.006       3.428        1.462       0.246     3.674\n",
      "1  versicolor        5.936       2.770        4.260       1.326     4.096\n",
      "2   virginica        6.588       2.974        5.552       2.026     5.000\n"
     ]
    }
   ],
   "source": [
    "format_large =iris.groupby(iris.Species).mean().reset_index()\n",
    "print(format_large)"
   ]
  },
  {
   "cell_type": "code",
   "execution_count": 85,
   "metadata": {},
   "outputs": [
    {
     "name": "stdout",
     "output_type": "stream",
     "text": [
      "       Species     variable  moyenne\n",
      "0       setosa  SepalLength    5.006\n",
      "1   versicolor  SepalLength    5.936\n",
      "2    virginica  SepalLength    6.588\n",
      "3       setosa   SepalWidth    3.428\n",
      "4   versicolor   SepalWidth    2.770\n",
      "5    virginica   SepalWidth    2.974\n",
      "6       setosa  PetalLength    1.462\n",
      "7   versicolor  PetalLength    4.260\n",
      "8    virginica  PetalLength    5.552\n",
      "9       setosa   PetalWidth    0.246\n",
      "10  versicolor   PetalWidth    1.326\n",
      "11   virginica   PetalWidth    2.026\n",
      "12      setosa     SumWidth    3.674\n",
      "13  versicolor     SumWidth    4.096\n",
      "14   virginica     SumWidth    5.000\n"
     ]
    }
   ],
   "source": [
    "print(\n",
    "format_large.melt(id_vars=[\"Species\"], value_name=\"moyenne\")\n",
    ")\n"
   ]
  },
  {
   "cell_type": "markdown",
   "metadata": {},
   "source": [
    "## Houston flights"
   ]
  },
  {
   "cell_type": "markdown",
   "metadata": {},
   "source": [
    "Nous considérons le jeux de données `hflights` relatif à des vols au départ des aéroports *Houston George Bush Intercontinental Airport* (IAH) et *William P. Hobby Airport* (HOU)."
   ]
  },
  {
   "cell_type": "markdown",
   "metadata": {},
   "source": [
    "1. Charger le jeu de données dans un dataframe `hflights` à partir du fichier `hflights.csv`"
   ]
  },
  {
   "cell_type": "code",
   "execution_count": 33,
   "metadata": {},
   "outputs": [],
   "source": [
    "hflights = pd.read_csv(\"/home/onyxia/work/formation_cepe/data/hflights.csv\")"
   ]
  },
  {
   "cell_type": "markdown",
   "metadata": {},
   "source": [
    "2. Sélectionner les variable `Dest`, `Distance`, `TaxiIn` et `TaxiOut` avec la méthode `filter`."
   ]
  },
  {
   "cell_type": "code",
   "execution_count": 34,
   "metadata": {},
   "outputs": [
    {
     "data": {
      "text/html": [
       "<div>\n",
       "<style scoped>\n",
       "    .dataframe tbody tr th:only-of-type {\n",
       "        vertical-align: middle;\n",
       "    }\n",
       "\n",
       "    .dataframe tbody tr th {\n",
       "        vertical-align: top;\n",
       "    }\n",
       "\n",
       "    .dataframe thead th {\n",
       "        text-align: right;\n",
       "    }\n",
       "</style>\n",
       "<table border=\"1\" class=\"dataframe\">\n",
       "  <thead>\n",
       "    <tr style=\"text-align: right;\">\n",
       "      <th></th>\n",
       "      <th>Dest</th>\n",
       "      <th>Distance</th>\n",
       "      <th>TaxiIn</th>\n",
       "      <th>TaxiOut</th>\n",
       "    </tr>\n",
       "  </thead>\n",
       "  <tbody>\n",
       "    <tr>\n",
       "      <th>0</th>\n",
       "      <td>DFW</td>\n",
       "      <td>224</td>\n",
       "      <td>7.0</td>\n",
       "      <td>13.0</td>\n",
       "    </tr>\n",
       "    <tr>\n",
       "      <th>1</th>\n",
       "      <td>DFW</td>\n",
       "      <td>224</td>\n",
       "      <td>6.0</td>\n",
       "      <td>9.0</td>\n",
       "    </tr>\n",
       "    <tr>\n",
       "      <th>2</th>\n",
       "      <td>DFW</td>\n",
       "      <td>224</td>\n",
       "      <td>5.0</td>\n",
       "      <td>17.0</td>\n",
       "    </tr>\n",
       "    <tr>\n",
       "      <th>3</th>\n",
       "      <td>DFW</td>\n",
       "      <td>224</td>\n",
       "      <td>9.0</td>\n",
       "      <td>22.0</td>\n",
       "    </tr>\n",
       "    <tr>\n",
       "      <th>4</th>\n",
       "      <td>DFW</td>\n",
       "      <td>224</td>\n",
       "      <td>9.0</td>\n",
       "      <td>9.0</td>\n",
       "    </tr>\n",
       "    <tr>\n",
       "      <th>...</th>\n",
       "      <td>...</td>\n",
       "      <td>...</td>\n",
       "      <td>...</td>\n",
       "      <td>...</td>\n",
       "    </tr>\n",
       "    <tr>\n",
       "      <th>227491</th>\n",
       "      <td>TPA</td>\n",
       "      <td>781</td>\n",
       "      <td>5.0</td>\n",
       "      <td>11.0</td>\n",
       "    </tr>\n",
       "    <tr>\n",
       "      <th>227492</th>\n",
       "      <td>TPA</td>\n",
       "      <td>781</td>\n",
       "      <td>4.0</td>\n",
       "      <td>9.0</td>\n",
       "    </tr>\n",
       "    <tr>\n",
       "      <th>227493</th>\n",
       "      <td>TUL</td>\n",
       "      <td>453</td>\n",
       "      <td>4.0</td>\n",
       "      <td>14.0</td>\n",
       "    </tr>\n",
       "    <tr>\n",
       "      <th>227494</th>\n",
       "      <td>TUL</td>\n",
       "      <td>453</td>\n",
       "      <td>3.0</td>\n",
       "      <td>9.0</td>\n",
       "    </tr>\n",
       "    <tr>\n",
       "      <th>227495</th>\n",
       "      <td>TUL</td>\n",
       "      <td>453</td>\n",
       "      <td>3.0</td>\n",
       "      <td>11.0</td>\n",
       "    </tr>\n",
       "  </tbody>\n",
       "</table>\n",
       "<p>227496 rows × 4 columns</p>\n",
       "</div>"
      ],
      "text/plain": [
       "       Dest  Distance  TaxiIn  TaxiOut\n",
       "0       DFW       224     7.0     13.0\n",
       "1       DFW       224     6.0      9.0\n",
       "2       DFW       224     5.0     17.0\n",
       "3       DFW       224     9.0     22.0\n",
       "4       DFW       224     9.0      9.0\n",
       "...     ...       ...     ...      ...\n",
       "227491  TPA       781     5.0     11.0\n",
       "227492  TPA       781     4.0      9.0\n",
       "227493  TUL       453     4.0     14.0\n",
       "227494  TUL       453     3.0      9.0\n",
       "227495  TUL       453     3.0     11.0\n",
       "\n",
       "[227496 rows x 4 columns]"
      ]
     },
     "execution_count": 34,
     "metadata": {},
     "output_type": "execute_result"
    }
   ],
   "source": [
    "hflights.filter(items=[\"Dest\", \"Distance\", \"TaxiIn\", \"TaxiOut\"])"
   ]
  },
  {
   "cell_type": "markdown",
   "metadata": {},
   "source": [
    "3. Sélectionner les variables `DepTime`, `ArrTime`, `ActualElapsedTime` et `AirTime` avec la méthode `filter` et le paramètre `like`."
   ]
  },
  {
   "cell_type": "code",
   "execution_count": 35,
   "metadata": {},
   "outputs": [
    {
     "data": {
      "text/html": [
       "<div>\n",
       "<style scoped>\n",
       "    .dataframe tbody tr th:only-of-type {\n",
       "        vertical-align: middle;\n",
       "    }\n",
       "\n",
       "    .dataframe tbody tr th {\n",
       "        vertical-align: top;\n",
       "    }\n",
       "\n",
       "    .dataframe thead th {\n",
       "        text-align: right;\n",
       "    }\n",
       "</style>\n",
       "<table border=\"1\" class=\"dataframe\">\n",
       "  <thead>\n",
       "    <tr style=\"text-align: right;\">\n",
       "      <th></th>\n",
       "      <th>DepTime</th>\n",
       "      <th>ArrTime</th>\n",
       "      <th>ActualElapsedTime</th>\n",
       "      <th>AirTime</th>\n",
       "    </tr>\n",
       "  </thead>\n",
       "  <tbody>\n",
       "    <tr>\n",
       "      <th>0</th>\n",
       "      <td>1400.0</td>\n",
       "      <td>1500.0</td>\n",
       "      <td>60.0</td>\n",
       "      <td>40.0</td>\n",
       "    </tr>\n",
       "    <tr>\n",
       "      <th>1</th>\n",
       "      <td>1401.0</td>\n",
       "      <td>1501.0</td>\n",
       "      <td>60.0</td>\n",
       "      <td>45.0</td>\n",
       "    </tr>\n",
       "    <tr>\n",
       "      <th>2</th>\n",
       "      <td>1352.0</td>\n",
       "      <td>1502.0</td>\n",
       "      <td>70.0</td>\n",
       "      <td>48.0</td>\n",
       "    </tr>\n",
       "    <tr>\n",
       "      <th>3</th>\n",
       "      <td>1403.0</td>\n",
       "      <td>1513.0</td>\n",
       "      <td>70.0</td>\n",
       "      <td>39.0</td>\n",
       "    </tr>\n",
       "    <tr>\n",
       "      <th>4</th>\n",
       "      <td>1405.0</td>\n",
       "      <td>1507.0</td>\n",
       "      <td>62.0</td>\n",
       "      <td>44.0</td>\n",
       "    </tr>\n",
       "    <tr>\n",
       "      <th>...</th>\n",
       "      <td>...</td>\n",
       "      <td>...</td>\n",
       "      <td>...</td>\n",
       "      <td>...</td>\n",
       "    </tr>\n",
       "    <tr>\n",
       "      <th>227491</th>\n",
       "      <td>1818.0</td>\n",
       "      <td>2111.0</td>\n",
       "      <td>113.0</td>\n",
       "      <td>97.0</td>\n",
       "    </tr>\n",
       "    <tr>\n",
       "      <th>227492</th>\n",
       "      <td>2047.0</td>\n",
       "      <td>2334.0</td>\n",
       "      <td>107.0</td>\n",
       "      <td>94.0</td>\n",
       "    </tr>\n",
       "    <tr>\n",
       "      <th>227493</th>\n",
       "      <td>912.0</td>\n",
       "      <td>1031.0</td>\n",
       "      <td>79.0</td>\n",
       "      <td>61.0</td>\n",
       "    </tr>\n",
       "    <tr>\n",
       "      <th>227494</th>\n",
       "      <td>656.0</td>\n",
       "      <td>812.0</td>\n",
       "      <td>76.0</td>\n",
       "      <td>64.0</td>\n",
       "    </tr>\n",
       "    <tr>\n",
       "      <th>227495</th>\n",
       "      <td>1600.0</td>\n",
       "      <td>1713.0</td>\n",
       "      <td>73.0</td>\n",
       "      <td>59.0</td>\n",
       "    </tr>\n",
       "  </tbody>\n",
       "</table>\n",
       "<p>227496 rows × 4 columns</p>\n",
       "</div>"
      ],
      "text/plain": [
       "        DepTime  ArrTime  ActualElapsedTime  AirTime\n",
       "0        1400.0   1500.0               60.0     40.0\n",
       "1        1401.0   1501.0               60.0     45.0\n",
       "2        1352.0   1502.0               70.0     48.0\n",
       "3        1403.0   1513.0               70.0     39.0\n",
       "4        1405.0   1507.0               62.0     44.0\n",
       "...         ...      ...                ...      ...\n",
       "227491   1818.0   2111.0              113.0     97.0\n",
       "227492   2047.0   2334.0              107.0     94.0\n",
       "227493    912.0   1031.0               79.0     61.0\n",
       "227494    656.0    812.0               76.0     64.0\n",
       "227495   1600.0   1713.0               73.0     59.0\n",
       "\n",
       "[227496 rows x 4 columns]"
      ]
     },
     "execution_count": 35,
     "metadata": {},
     "output_type": "execute_result"
    }
   ],
   "source": [
    "hflights.filter(like=\"Time\")"
   ]
  },
  {
   "cell_type": "markdown",
   "metadata": {},
   "source": [
    "4. Ajouter une variable `ActualGroundTime` qui correspond à `ActualElapsedTime` moins `AirTime`."
   ]
  },
  {
   "cell_type": "code",
   "execution_count": 36,
   "metadata": {},
   "outputs": [
    {
     "name": "stdout",
     "output_type": "stream",
     "text": [
      "   Year  Month  DayofMonth  DayOfWeek  DepTime  ArrTime UniqueCarrier  \\\n",
      "0  2011      1           1          6   1400.0   1500.0            AA   \n",
      "1  2011      1           2          7   1401.0   1501.0            AA   \n",
      "2  2011      1           3          1   1352.0   1502.0            AA   \n",
      "3  2011      1           4          2   1403.0   1513.0            AA   \n",
      "4  2011      1           5          3   1405.0   1507.0            AA   \n",
      "\n",
      "   FlightNum TailNum  ActualElapsedTime  ...  DepDelay  Origin  Dest Distance  \\\n",
      "0        428  N576AA               60.0  ...       0.0     IAH   DFW      224   \n",
      "1        428  N557AA               60.0  ...       1.0     IAH   DFW      224   \n",
      "2        428  N541AA               70.0  ...      -8.0     IAH   DFW      224   \n",
      "3        428  N403AA               70.0  ...       3.0     IAH   DFW      224   \n",
      "4        428  N492AA               62.0  ...       5.0     IAH   DFW      224   \n",
      "\n",
      "  TaxiIn  TaxiOut  Cancelled  CancellationCode  Diverted ActualGroundTime  \n",
      "0    7.0     13.0          0               NaN         0             20.0  \n",
      "1    6.0      9.0          0               NaN         0             15.0  \n",
      "2    5.0     17.0          0               NaN         0             22.0  \n",
      "3    9.0     22.0          0               NaN         0             31.0  \n",
      "4    9.0      9.0          0               NaN         0             18.0  \n",
      "\n",
      "[5 rows x 22 columns]\n"
     ]
    }
   ],
   "source": [
    "hflights[\"ActualGroundTime\"] = hflights.ActualElapsedTime - hflights.AirTime\n",
    "print(hflights.head())"
   ]
  },
  {
   "cell_type": "markdown",
   "metadata": {},
   "source": [
    "5. Ajouter une variable `AverageSpeed` qui donne la vitesse moyenne du vol et ordonner la table selon les valeurs décroissantes de cette variable."
   ]
  },
  {
   "cell_type": "code",
   "execution_count": 39,
   "metadata": {},
   "outputs": [
    {
     "name": "stdout",
     "output_type": "stream",
     "text": [
      "        Year  Month  DayofMonth  DayOfWeek  DepTime  ArrTime UniqueCarrier  \\\n",
      "147589  2011      8          31          3   1255.0   1346.0            CO   \n",
      "8318    2011      1           8          6   1620.0   1730.0            EV   \n",
      "34761   2011      2          21          1    834.0   1156.0            US   \n",
      "185953  2011     10           9          7   1104.0   1117.0            XE   \n",
      "40764   2011      3           9          3   1905.0   2225.0            CO   \n",
      "...      ...    ...         ...        ...      ...      ...           ...   \n",
      "227134  2011     12           4          7   1050.0   1843.0            WN   \n",
      "227153  2011     12           4          7      NaN      NaN            WN   \n",
      "227271  2011     12           5          1      NaN      NaN            WN   \n",
      "227302  2011     12           5          1    819.0   1221.0            WN   \n",
      "227394  2011     12           6          2      NaN      NaN            WN   \n",
      "\n",
      "        FlightNum TailNum  ActualElapsedTime  ...  Origin  Dest  Distance  \\\n",
      "147589       1646  N11612               51.0  ...     IAH   AUS       140   \n",
      "8318         5229  N451CA               70.0  ...     IAH   MEM       469   \n",
      "34761         944  N409US              142.0  ...     IAH   CLT       913   \n",
      "185953       4634  N11121               73.0  ...     IAH   HOB       501   \n",
      "40764         500  N19638              140.0  ...     IAH   IND       845   \n",
      "...           ...     ...                ...  ...     ...   ...       ...   \n",
      "227134       1797  N791SW                NaN  ...     HOU   BWI      1246   \n",
      "227153       2387  N928WN                NaN  ...     HOU   DAL       239   \n",
      "227271         38  N604SW                NaN  ...     HOU   DAL       239   \n",
      "227302        269  N665WN                NaN  ...     HOU   JAN       359   \n",
      "227394         16  N362SW                NaN  ...     HOU   DAL       239   \n",
      "\n",
      "       TaxiIn TaxiOut  Cancelled  CancellationCode  Diverted  \\\n",
      "147589    8.0    32.0          0               NaN         0   \n",
      "8318     10.0    18.0          0               NaN         0   \n",
      "34761    22.0    35.0          0               NaN         0   \n",
      "185953   13.0    13.0          0               NaN         0   \n",
      "40764     6.0    52.0          0               NaN         0   \n",
      "...       ...     ...        ...               ...       ...   \n",
      "227134    6.0    11.0          0               NaN         1   \n",
      "227153    NaN     NaN          1                 A         0   \n",
      "227271    NaN     NaN          1                 A         0   \n",
      "227302    6.0     9.0          0               NaN         1   \n",
      "227394    NaN     NaN          1                 A         0   \n",
      "\n",
      "        ActualGroundTime AverageSpeed  \n",
      "147589              40.0    12.727273  \n",
      "8318                28.0    11.166667  \n",
      "34761               57.0    10.741176  \n",
      "185953              26.0    10.659574  \n",
      "40764               58.0    10.304878  \n",
      "...                  ...          ...  \n",
      "227134               NaN          NaN  \n",
      "227153               NaN          NaN  \n",
      "227271               NaN          NaN  \n",
      "227302               NaN          NaN  \n",
      "227394               NaN          NaN  \n",
      "\n",
      "[227496 rows x 23 columns]\n"
     ]
    }
   ],
   "source": [
    "hflights[\"AverageSpeed\"] = hflights.Distance / hflights.AirTime\n",
    "hflights.sort_values(by = \"AverageSpeed\", ascending=False, inplace=True)\n",
    "print(hflights)"
   ]
  },
  {
   "cell_type": "markdown",
   "metadata": {},
   "source": [
    "6. Sélectionner les vols à destination de `JFK`."
   ]
  },
  {
   "cell_type": "code",
   "execution_count": 40,
   "metadata": {},
   "outputs": [
    {
     "data": {
      "text/html": [
       "<div>\n",
       "<style scoped>\n",
       "    .dataframe tbody tr th:only-of-type {\n",
       "        vertical-align: middle;\n",
       "    }\n",
       "\n",
       "    .dataframe tbody tr th {\n",
       "        vertical-align: top;\n",
       "    }\n",
       "\n",
       "    .dataframe thead th {\n",
       "        text-align: right;\n",
       "    }\n",
       "</style>\n",
       "<table border=\"1\" class=\"dataframe\">\n",
       "  <thead>\n",
       "    <tr style=\"text-align: right;\">\n",
       "      <th></th>\n",
       "      <th>Year</th>\n",
       "      <th>Month</th>\n",
       "      <th>DayofMonth</th>\n",
       "      <th>DayOfWeek</th>\n",
       "      <th>DepTime</th>\n",
       "      <th>ArrTime</th>\n",
       "      <th>UniqueCarrier</th>\n",
       "      <th>FlightNum</th>\n",
       "      <th>TailNum</th>\n",
       "      <th>ActualElapsedTime</th>\n",
       "      <th>...</th>\n",
       "      <th>Origin</th>\n",
       "      <th>Dest</th>\n",
       "      <th>Distance</th>\n",
       "      <th>TaxiIn</th>\n",
       "      <th>TaxiOut</th>\n",
       "      <th>Cancelled</th>\n",
       "      <th>CancellationCode</th>\n",
       "      <th>Diverted</th>\n",
       "      <th>ActualGroundTime</th>\n",
       "      <th>AverageSpeed</th>\n",
       "    </tr>\n",
       "  </thead>\n",
       "  <tbody>\n",
       "    <tr>\n",
       "      <th>19193</th>\n",
       "      <td>2011</td>\n",
       "      <td>2</td>\n",
       "      <td>7</td>\n",
       "      <td>1</td>\n",
       "      <td>659.0</td>\n",
       "      <td>1045.0</td>\n",
       "      <td>B6</td>\n",
       "      <td>620</td>\n",
       "      <td>N607JB</td>\n",
       "      <td>166.0</td>\n",
       "      <td>...</td>\n",
       "      <td>HOU</td>\n",
       "      <td>JFK</td>\n",
       "      <td>1428</td>\n",
       "      <td>5.0</td>\n",
       "      <td>14.0</td>\n",
       "      <td>0</td>\n",
       "      <td>NaN</td>\n",
       "      <td>0</td>\n",
       "      <td>19.0</td>\n",
       "      <td>9.714286</td>\n",
       "    </tr>\n",
       "    <tr>\n",
       "      <th>19191</th>\n",
       "      <td>2011</td>\n",
       "      <td>2</td>\n",
       "      <td>6</td>\n",
       "      <td>7</td>\n",
       "      <td>700.0</td>\n",
       "      <td>1045.0</td>\n",
       "      <td>B6</td>\n",
       "      <td>620</td>\n",
       "      <td>N657JB</td>\n",
       "      <td>165.0</td>\n",
       "      <td>...</td>\n",
       "      <td>HOU</td>\n",
       "      <td>JFK</td>\n",
       "      <td>1428</td>\n",
       "      <td>4.0</td>\n",
       "      <td>10.0</td>\n",
       "      <td>0</td>\n",
       "      <td>NaN</td>\n",
       "      <td>0</td>\n",
       "      <td>14.0</td>\n",
       "      <td>9.456954</td>\n",
       "    </tr>\n",
       "    <tr>\n",
       "      <th>19190</th>\n",
       "      <td>2011</td>\n",
       "      <td>2</td>\n",
       "      <td>5</td>\n",
       "      <td>6</td>\n",
       "      <td>700.0</td>\n",
       "      <td>1113.0</td>\n",
       "      <td>B6</td>\n",
       "      <td>620</td>\n",
       "      <td>N653JB</td>\n",
       "      <td>193.0</td>\n",
       "      <td>...</td>\n",
       "      <td>HOU</td>\n",
       "      <td>JFK</td>\n",
       "      <td>1428</td>\n",
       "      <td>8.0</td>\n",
       "      <td>32.0</td>\n",
       "      <td>0</td>\n",
       "      <td>NaN</td>\n",
       "      <td>0</td>\n",
       "      <td>40.0</td>\n",
       "      <td>9.333333</td>\n",
       "    </tr>\n",
       "    <tr>\n",
       "      <th>19192</th>\n",
       "      <td>2011</td>\n",
       "      <td>2</td>\n",
       "      <td>6</td>\n",
       "      <td>7</td>\n",
       "      <td>1529.0</td>\n",
       "      <td>1917.0</td>\n",
       "      <td>B6</td>\n",
       "      <td>624</td>\n",
       "      <td>N531JB</td>\n",
       "      <td>168.0</td>\n",
       "      <td>...</td>\n",
       "      <td>HOU</td>\n",
       "      <td>JFK</td>\n",
       "      <td>1428</td>\n",
       "      <td>5.0</td>\n",
       "      <td>9.0</td>\n",
       "      <td>0</td>\n",
       "      <td>NaN</td>\n",
       "      <td>0</td>\n",
       "      <td>14.0</td>\n",
       "      <td>9.272727</td>\n",
       "    </tr>\n",
       "    <tr>\n",
       "      <th>342</th>\n",
       "      <td>2011</td>\n",
       "      <td>1</td>\n",
       "      <td>24</td>\n",
       "      <td>1</td>\n",
       "      <td>707.0</td>\n",
       "      <td>1059.0</td>\n",
       "      <td>B6</td>\n",
       "      <td>620</td>\n",
       "      <td>N605JB</td>\n",
       "      <td>172.0</td>\n",
       "      <td>...</td>\n",
       "      <td>HOU</td>\n",
       "      <td>JFK</td>\n",
       "      <td>1428</td>\n",
       "      <td>4.0</td>\n",
       "      <td>12.0</td>\n",
       "      <td>0</td>\n",
       "      <td>NaN</td>\n",
       "      <td>0</td>\n",
       "      <td>16.0</td>\n",
       "      <td>9.153846</td>\n",
       "    </tr>\n",
       "    <tr>\n",
       "      <th>...</th>\n",
       "      <td>...</td>\n",
       "      <td>...</td>\n",
       "      <td>...</td>\n",
       "      <td>...</td>\n",
       "      <td>...</td>\n",
       "      <td>...</td>\n",
       "      <td>...</td>\n",
       "      <td>...</td>\n",
       "      <td>...</td>\n",
       "      <td>...</td>\n",
       "      <td>...</td>\n",
       "      <td>...</td>\n",
       "      <td>...</td>\n",
       "      <td>...</td>\n",
       "      <td>...</td>\n",
       "      <td>...</td>\n",
       "      <td>...</td>\n",
       "      <td>...</td>\n",
       "      <td>...</td>\n",
       "      <td>...</td>\n",
       "      <td>...</td>\n",
       "    </tr>\n",
       "    <tr>\n",
       "      <th>147441</th>\n",
       "      <td>2011</td>\n",
       "      <td>8</td>\n",
       "      <td>27</td>\n",
       "      <td>6</td>\n",
       "      <td>NaN</td>\n",
       "      <td>NaN</td>\n",
       "      <td>B6</td>\n",
       "      <td>622</td>\n",
       "      <td>N568JB</td>\n",
       "      <td>NaN</td>\n",
       "      <td>...</td>\n",
       "      <td>HOU</td>\n",
       "      <td>JFK</td>\n",
       "      <td>1428</td>\n",
       "      <td>NaN</td>\n",
       "      <td>NaN</td>\n",
       "      <td>1</td>\n",
       "      <td>B</td>\n",
       "      <td>0</td>\n",
       "      <td>NaN</td>\n",
       "      <td>NaN</td>\n",
       "    </tr>\n",
       "    <tr>\n",
       "      <th>147442</th>\n",
       "      <td>2011</td>\n",
       "      <td>8</td>\n",
       "      <td>28</td>\n",
       "      <td>7</td>\n",
       "      <td>NaN</td>\n",
       "      <td>NaN</td>\n",
       "      <td>B6</td>\n",
       "      <td>620</td>\n",
       "      <td>N606JB</td>\n",
       "      <td>NaN</td>\n",
       "      <td>...</td>\n",
       "      <td>HOU</td>\n",
       "      <td>JFK</td>\n",
       "      <td>1428</td>\n",
       "      <td>NaN</td>\n",
       "      <td>NaN</td>\n",
       "      <td>1</td>\n",
       "      <td>B</td>\n",
       "      <td>0</td>\n",
       "      <td>NaN</td>\n",
       "      <td>NaN</td>\n",
       "    </tr>\n",
       "    <tr>\n",
       "      <th>147443</th>\n",
       "      <td>2011</td>\n",
       "      <td>8</td>\n",
       "      <td>28</td>\n",
       "      <td>7</td>\n",
       "      <td>NaN</td>\n",
       "      <td>NaN</td>\n",
       "      <td>B6</td>\n",
       "      <td>622</td>\n",
       "      <td>N606JB</td>\n",
       "      <td>NaN</td>\n",
       "      <td>...</td>\n",
       "      <td>HOU</td>\n",
       "      <td>JFK</td>\n",
       "      <td>1428</td>\n",
       "      <td>NaN</td>\n",
       "      <td>NaN</td>\n",
       "      <td>1</td>\n",
       "      <td>B</td>\n",
       "      <td>0</td>\n",
       "      <td>NaN</td>\n",
       "      <td>NaN</td>\n",
       "    </tr>\n",
       "    <tr>\n",
       "      <th>147444</th>\n",
       "      <td>2011</td>\n",
       "      <td>8</td>\n",
       "      <td>29</td>\n",
       "      <td>1</td>\n",
       "      <td>NaN</td>\n",
       "      <td>NaN</td>\n",
       "      <td>B6</td>\n",
       "      <td>620</td>\n",
       "      <td>N653JB</td>\n",
       "      <td>NaN</td>\n",
       "      <td>...</td>\n",
       "      <td>HOU</td>\n",
       "      <td>JFK</td>\n",
       "      <td>1428</td>\n",
       "      <td>NaN</td>\n",
       "      <td>NaN</td>\n",
       "      <td>1</td>\n",
       "      <td>B</td>\n",
       "      <td>0</td>\n",
       "      <td>NaN</td>\n",
       "      <td>NaN</td>\n",
       "    </tr>\n",
       "    <tr>\n",
       "      <th>147445</th>\n",
       "      <td>2011</td>\n",
       "      <td>8</td>\n",
       "      <td>29</td>\n",
       "      <td>1</td>\n",
       "      <td>NaN</td>\n",
       "      <td>NaN</td>\n",
       "      <td>B6</td>\n",
       "      <td>622</td>\n",
       "      <td>N589JB</td>\n",
       "      <td>NaN</td>\n",
       "      <td>...</td>\n",
       "      <td>HOU</td>\n",
       "      <td>JFK</td>\n",
       "      <td>1428</td>\n",
       "      <td>NaN</td>\n",
       "      <td>NaN</td>\n",
       "      <td>1</td>\n",
       "      <td>B</td>\n",
       "      <td>0</td>\n",
       "      <td>NaN</td>\n",
       "      <td>NaN</td>\n",
       "    </tr>\n",
       "  </tbody>\n",
       "</table>\n",
       "<p>695 rows × 23 columns</p>\n",
       "</div>"
      ],
      "text/plain": [
       "        Year  Month  DayofMonth  DayOfWeek  DepTime  ArrTime UniqueCarrier  \\\n",
       "19193   2011      2           7          1    659.0   1045.0            B6   \n",
       "19191   2011      2           6          7    700.0   1045.0            B6   \n",
       "19190   2011      2           5          6    700.0   1113.0            B6   \n",
       "19192   2011      2           6          7   1529.0   1917.0            B6   \n",
       "342     2011      1          24          1    707.0   1059.0            B6   \n",
       "...      ...    ...         ...        ...      ...      ...           ...   \n",
       "147441  2011      8          27          6      NaN      NaN            B6   \n",
       "147442  2011      8          28          7      NaN      NaN            B6   \n",
       "147443  2011      8          28          7      NaN      NaN            B6   \n",
       "147444  2011      8          29          1      NaN      NaN            B6   \n",
       "147445  2011      8          29          1      NaN      NaN            B6   \n",
       "\n",
       "        FlightNum TailNum  ActualElapsedTime  ...  Origin  Dest  Distance  \\\n",
       "19193         620  N607JB              166.0  ...     HOU   JFK      1428   \n",
       "19191         620  N657JB              165.0  ...     HOU   JFK      1428   \n",
       "19190         620  N653JB              193.0  ...     HOU   JFK      1428   \n",
       "19192         624  N531JB              168.0  ...     HOU   JFK      1428   \n",
       "342           620  N605JB              172.0  ...     HOU   JFK      1428   \n",
       "...           ...     ...                ...  ...     ...   ...       ...   \n",
       "147441        622  N568JB                NaN  ...     HOU   JFK      1428   \n",
       "147442        620  N606JB                NaN  ...     HOU   JFK      1428   \n",
       "147443        622  N606JB                NaN  ...     HOU   JFK      1428   \n",
       "147444        620  N653JB                NaN  ...     HOU   JFK      1428   \n",
       "147445        622  N589JB                NaN  ...     HOU   JFK      1428   \n",
       "\n",
       "       TaxiIn TaxiOut  Cancelled  CancellationCode  Diverted  \\\n",
       "19193     5.0    14.0          0               NaN         0   \n",
       "19191     4.0    10.0          0               NaN         0   \n",
       "19190     8.0    32.0          0               NaN         0   \n",
       "19192     5.0     9.0          0               NaN         0   \n",
       "342       4.0    12.0          0               NaN         0   \n",
       "...       ...     ...        ...               ...       ...   \n",
       "147441    NaN     NaN          1                 B         0   \n",
       "147442    NaN     NaN          1                 B         0   \n",
       "147443    NaN     NaN          1                 B         0   \n",
       "147444    NaN     NaN          1                 B         0   \n",
       "147445    NaN     NaN          1                 B         0   \n",
       "\n",
       "        ActualGroundTime AverageSpeed  \n",
       "19193               19.0     9.714286  \n",
       "19191               14.0     9.456954  \n",
       "19190               40.0     9.333333  \n",
       "19192               14.0     9.272727  \n",
       "342                 16.0     9.153846  \n",
       "...                  ...          ...  \n",
       "147441               NaN          NaN  \n",
       "147442               NaN          NaN  \n",
       "147443               NaN          NaN  \n",
       "147444               NaN          NaN  \n",
       "147445               NaN          NaN  \n",
       "\n",
       "[695 rows x 23 columns]"
      ]
     },
     "execution_count": 40,
     "metadata": {},
     "output_type": "execute_result"
    }
   ],
   "source": [
    "hflights[hflights.Dest == \"JFK\"]"
   ]
  },
  {
   "cell_type": "markdown",
   "metadata": {},
   "source": [
    "7. Compter le nombre de vols à destination de `JFK`."
   ]
  },
  {
   "cell_type": "code",
   "execution_count": 46,
   "metadata": {},
   "outputs": [
    {
     "data": {
      "text/plain": [
       "np.int64(695)"
      ]
     },
     "execution_count": 46,
     "metadata": {},
     "output_type": "execute_result"
    }
   ],
   "source": [
    "hflights[\"Dest\"][hflights.Dest==\"JFK\"].agg(\"count\")"
   ]
  },
  {
   "cell_type": "markdown",
   "metadata": {},
   "source": [
    "8. Agréger les données `hflights` pour obtenir :\n",
    "- `n` : le nombre total de vols,\n",
    "- `n_dest`: le nombre total de destinations distinctes,\n",
    "- `n_carrier` : le nombre total de compagnies distinctes."
   ]
  },
  {
   "cell_type": "code",
   "execution_count": null,
   "metadata": {},
   "outputs": [
    {
     "data": {
      "text/html": [
       "<div>\n",
       "<style scoped>\n",
       "    .dataframe tbody tr th:only-of-type {\n",
       "        vertical-align: middle;\n",
       "    }\n",
       "\n",
       "    .dataframe tbody tr th {\n",
       "        vertical-align: top;\n",
       "    }\n",
       "\n",
       "    .dataframe thead th {\n",
       "        text-align: right;\n",
       "    }\n",
       "</style>\n",
       "<table border=\"1\" class=\"dataframe\">\n",
       "  <thead>\n",
       "    <tr style=\"text-align: right;\">\n",
       "      <th></th>\n",
       "      <th>n</th>\n",
       "      <th>n_dest</th>\n",
       "      <th>n_carrier</th>\n",
       "    </tr>\n",
       "  </thead>\n",
       "  <tbody>\n",
       "    <tr>\n",
       "      <th>0</th>\n",
       "      <td>227496</td>\n",
       "      <td>116</td>\n",
       "      <td>15</td>\n",
       "    </tr>\n",
       "  </tbody>\n",
       "</table>\n",
       "</div>"
      ],
      "text/plain": [
       "        n  n_dest  n_carrier\n",
       "0  227496     116         15"
      ]
     },
     "execution_count": 86,
     "metadata": {},
     "output_type": "execute_result"
    }
   ],
   "source": [
    "\n",
    "pd.DataFrame(\n",
    "    {\n",
    "        \"n\" : hflights.FlightNum.count(),\n",
    "        \"n_dest\" : hflights.Dest.nunique(),\n",
    "        \"n_carrier\" : hflights.UniqueCarrier.nunique()\n",
    "    },\n",
    "    index=[0]\n",
    ")\n"
   ]
  },
  {
   "cell_type": "markdown",
   "metadata": {},
   "source": [
    "9. Agréger les données des vols de la compagnie `AA` pour obtenir :\n",
    "- le nombre total de vols,\n",
    "- le nombre total de vols annulés,\n",
    "- la valeur moyenne de `ArrDelay`."
   ]
  },
  {
   "cell_type": "code",
   "execution_count": 88,
   "metadata": {},
   "outputs": [
    {
     "data": {
      "text/html": [
       "<div>\n",
       "<style scoped>\n",
       "    .dataframe tbody tr th:only-of-type {\n",
       "        vertical-align: middle;\n",
       "    }\n",
       "\n",
       "    .dataframe tbody tr th {\n",
       "        vertical-align: top;\n",
       "    }\n",
       "\n",
       "    .dataframe thead th {\n",
       "        text-align: right;\n",
       "    }\n",
       "</style>\n",
       "<table border=\"1\" class=\"dataframe\">\n",
       "  <thead>\n",
       "    <tr style=\"text-align: right;\">\n",
       "      <th></th>\n",
       "      <th>n</th>\n",
       "      <th>n_cancelled</th>\n",
       "      <th>mean_arrdelay</th>\n",
       "    </tr>\n",
       "  </thead>\n",
       "  <tbody>\n",
       "    <tr>\n",
       "      <th>0</th>\n",
       "      <td>3244</td>\n",
       "      <td>60</td>\n",
       "      <td>0.891756</td>\n",
       "    </tr>\n",
       "  </tbody>\n",
       "</table>\n",
       "</div>"
      ],
      "text/plain": [
       "      n  n_cancelled  mean_arrdelay\n",
       "0  3244           60       0.891756"
      ]
     },
     "execution_count": 88,
     "metadata": {},
     "output_type": "execute_result"
    }
   ],
   "source": [
    "\n",
    "hflights_AA = hflights[[\"FlightNum\", \"Cancelled\", \"ArrDelay\"]][hflights.UniqueCarrier==\"AA\"]\n",
    "pd.DataFrame(\n",
    "    {\n",
    "        \"n\" : hflights_AA.FlightNum.count(),\n",
    "        \"n_cancelled\" : hflights_AA.Cancelled.sum(),\n",
    "        \"mean_arrdelay\" : hflights_AA.ArrDelay.mean()\n",
    "    },\n",
    "    index=[0]\n",
    ")"
   ]
  },
  {
   "cell_type": "markdown",
   "metadata": {},
   "source": [
    "10. Calculer pour chaque compagnie :\n",
    "- le nombre total de vols,\n",
    "- la valeur moyenne de `AirTime`."
   ]
  },
  {
   "cell_type": "code",
   "execution_count": null,
   "metadata": {},
   "outputs": [
    {
     "name": "stdout",
     "output_type": "stream",
     "text": [
      "               nb_vols  nb_annul    variance\n",
      "UniqueCarrier                               \n",
      "AA                3244        60   69.652612\n",
      "AS                 365         0  254.184066\n",
      "B6                 695        18  183.985141\n",
      "CO               70032       475  145.457873\n",
      "DL                2641        42   97.801235\n",
      "EV                2204        76  103.656766\n",
      "F9                 838         6  125.341346\n",
      "FL                2139        21   92.706300\n",
      "MQ                4648       135   93.839476\n",
      "OO               16061       224  113.410684\n",
      "UA                2072        34  157.406296\n",
      "US                4082        46  133.856328\n",
      "WN               45343       703   86.731341\n",
      "XE               73053      1132   83.222146\n",
      "YV                  79         1  121.935897\n"
     ]
    }
   ],
   "source": [
    "print( # Remarquer la syntaxe de cet exemple\n",
    "hflights\n",
    ".groupby(hflights.UniqueCarrier)\n",
    ".agg( # NamedAgg permet de nommer les agrégations\n",
    "nb_vols=pd.NamedAgg(column=\"FlightNum\", aggfunc=\"count\"),\n",
    "nb_annul = pd.NamedAgg(column=\"Cancelled\", aggfunc=\"sum\"),\n",
    "variance=pd.NamedAgg(column=\"AirTime\", aggfunc=\"mean\")\n",
    ")\n",
    ")"
   ]
  },
  {
   "cell_type": "markdown",
   "metadata": {},
   "source": [
    "11. Ordonner les compagnies en fonction des retards moyens au départ."
   ]
  },
  {
   "cell_type": "code",
   "execution_count": 80,
   "metadata": {},
   "outputs": [
    {
     "name": "stdout",
     "output_type": "stream",
     "text": [
      "               mean_depdelay\n",
      "UniqueCarrier               \n",
      "YV                  1.538462\n",
      "US                  1.622926\n",
      "AS                  3.712329\n",
      "FL                  4.716376\n",
      "F9                  5.093637\n",
      "AA                  6.390144\n",
      "XE                  7.713728\n",
      "OO                  8.885482\n",
      "CO                  9.261313\n",
      "DL                  9.370627\n",
      "MQ                 11.071745\n",
      "EV                 12.482193\n",
      "UA                 12.918707\n",
      "B6                 13.320532\n",
      "WN                 13.488241\n"
     ]
    }
   ],
   "source": [
    "print( # Remarquer la syntaxe de cet exemple\n",
    "hflights\n",
    ".groupby(hflights.UniqueCarrier)\n",
    ".agg( # NamedAgg permet de nommer les agrégations\n",
    "mean_depdelay=pd.NamedAgg(column=\"DepDelay\", aggfunc=\"mean\")\n",
    ")\n",
    ".sort_values(by=\"mean_depdelay\")\n",
    ")"
   ]
  }
 ],
 "metadata": {
  "kernelspec": {
   "display_name": "base",
   "language": "python",
   "name": "python3"
  },
  "language_info": {
   "codemirror_mode": {
    "name": "ipython",
    "version": 3
   },
   "file_extension": ".py",
   "mimetype": "text/x-python",
   "name": "python",
   "nbconvert_exporter": "python",
   "pygments_lexer": "ipython3",
   "version": "3.12.9"
  }
 },
 "nbformat": 4,
 "nbformat_minor": 2
}
